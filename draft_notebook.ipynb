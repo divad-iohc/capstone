{
 "cells": [
  {
   "cell_type": "markdown",
   "metadata": {},
   "source": [
    "## Setup"
   ]
  },
  {
   "cell_type": "code",
   "execution_count": 1,
   "metadata": {},
   "outputs": [
    {
     "name": "stdout",
     "output_type": "stream",
     "text": [
      "Requirement already satisfied: matplotlib in ./.venv/lib/python3.9/site-packages (3.9.2)\n",
      "Requirement already satisfied: contourpy>=1.0.1 in ./.venv/lib/python3.9/site-packages (from matplotlib) (1.3.0)\n",
      "Requirement already satisfied: cycler>=0.10 in ./.venv/lib/python3.9/site-packages (from matplotlib) (0.12.1)\n",
      "Requirement already satisfied: fonttools>=4.22.0 in ./.venv/lib/python3.9/site-packages (from matplotlib) (4.54.1)\n",
      "Requirement already satisfied: kiwisolver>=1.3.1 in ./.venv/lib/python3.9/site-packages (from matplotlib) (1.4.7)\n",
      "Requirement already satisfied: numpy>=1.23 in ./.venv/lib/python3.9/site-packages (from matplotlib) (2.0.2)\n",
      "Requirement already satisfied: packaging>=20.0 in ./.venv/lib/python3.9/site-packages (from matplotlib) (24.1)\n",
      "Requirement already satisfied: pillow>=8 in ./.venv/lib/python3.9/site-packages (from matplotlib) (11.0.0)\n",
      "Requirement already satisfied: pyparsing>=2.3.1 in ./.venv/lib/python3.9/site-packages (from matplotlib) (3.2.0)\n",
      "Requirement already satisfied: python-dateutil>=2.7 in ./.venv/lib/python3.9/site-packages (from matplotlib) (2.9.0.post0)\n",
      "Requirement already satisfied: importlib-resources>=3.2.0 in ./.venv/lib/python3.9/site-packages (from matplotlib) (6.4.5)\n",
      "Requirement already satisfied: zipp>=3.1.0 in ./.venv/lib/python3.9/site-packages (from importlib-resources>=3.2.0->matplotlib) (3.20.2)\n",
      "Requirement already satisfied: six>=1.5 in ./.venv/lib/python3.9/site-packages (from python-dateutil>=2.7->matplotlib) (1.16.0)\n",
      "Note: you may need to restart the kernel to use updated packages.\n",
      "Requirement already satisfied: yfinance in ./.venv/lib/python3.9/site-packages (0.2.44)\n",
      "Requirement already satisfied: pandas>=1.3.0 in ./.venv/lib/python3.9/site-packages (from yfinance) (2.2.3)\n",
      "Requirement already satisfied: numpy>=1.16.5 in ./.venv/lib/python3.9/site-packages (from yfinance) (2.0.2)\n",
      "Requirement already satisfied: requests>=2.31 in ./.venv/lib/python3.9/site-packages (from yfinance) (2.32.3)\n",
      "Requirement already satisfied: multitasking>=0.0.7 in ./.venv/lib/python3.9/site-packages (from yfinance) (0.0.11)\n",
      "Requirement already satisfied: lxml>=4.9.1 in ./.venv/lib/python3.9/site-packages (from yfinance) (5.3.0)\n",
      "Requirement already satisfied: platformdirs>=2.0.0 in ./.venv/lib/python3.9/site-packages (from yfinance) (4.3.6)\n",
      "Requirement already satisfied: pytz>=2022.5 in ./.venv/lib/python3.9/site-packages (from yfinance) (2024.2)\n",
      "Requirement already satisfied: frozendict>=2.3.4 in ./.venv/lib/python3.9/site-packages (from yfinance) (2.4.6)\n",
      "Requirement already satisfied: peewee>=3.16.2 in ./.venv/lib/python3.9/site-packages (from yfinance) (3.17.7)\n",
      "Requirement already satisfied: beautifulsoup4>=4.11.1 in ./.venv/lib/python3.9/site-packages (from yfinance) (4.12.3)\n",
      "Requirement already satisfied: html5lib>=1.1 in ./.venv/lib/python3.9/site-packages (from yfinance) (1.1)\n",
      "Requirement already satisfied: soupsieve>1.2 in ./.venv/lib/python3.9/site-packages (from beautifulsoup4>=4.11.1->yfinance) (2.6)\n",
      "Requirement already satisfied: six>=1.9 in ./.venv/lib/python3.9/site-packages (from html5lib>=1.1->yfinance) (1.16.0)\n",
      "Requirement already satisfied: webencodings in ./.venv/lib/python3.9/site-packages (from html5lib>=1.1->yfinance) (0.5.1)\n",
      "Requirement already satisfied: python-dateutil>=2.8.2 in ./.venv/lib/python3.9/site-packages (from pandas>=1.3.0->yfinance) (2.9.0.post0)\n",
      "Requirement already satisfied: tzdata>=2022.7 in ./.venv/lib/python3.9/site-packages (from pandas>=1.3.0->yfinance) (2024.2)\n",
      "Requirement already satisfied: charset-normalizer<4,>=2 in ./.venv/lib/python3.9/site-packages (from requests>=2.31->yfinance) (3.4.0)\n",
      "Requirement already satisfied: idna<4,>=2.5 in ./.venv/lib/python3.9/site-packages (from requests>=2.31->yfinance) (3.10)\n",
      "Requirement already satisfied: urllib3<3,>=1.21.1 in ./.venv/lib/python3.9/site-packages (from requests>=2.31->yfinance) (2.2.3)\n",
      "Requirement already satisfied: certifi>=2017.4.17 in ./.venv/lib/python3.9/site-packages (from requests>=2.31->yfinance) (2024.8.30)\n",
      "Note: you may need to restart the kernel to use updated packages.\n",
      "Requirement already satisfied: scipy in ./.venv/lib/python3.9/site-packages (1.13.1)\n",
      "Requirement already satisfied: numpy<2.3,>=1.22.4 in ./.venv/lib/python3.9/site-packages (from scipy) (2.0.2)\n",
      "Note: you may need to restart the kernel to use updated packages.\n",
      "Requirement already satisfied: seaborn in ./.venv/lib/python3.9/site-packages (0.13.2)\n",
      "Requirement already satisfied: numpy!=1.24.0,>=1.20 in ./.venv/lib/python3.9/site-packages (from seaborn) (2.0.2)\n",
      "Requirement already satisfied: pandas>=1.2 in ./.venv/lib/python3.9/site-packages (from seaborn) (2.2.3)\n",
      "Requirement already satisfied: matplotlib!=3.6.1,>=3.4 in ./.venv/lib/python3.9/site-packages (from seaborn) (3.9.2)\n",
      "Requirement already satisfied: contourpy>=1.0.1 in ./.venv/lib/python3.9/site-packages (from matplotlib!=3.6.1,>=3.4->seaborn) (1.3.0)\n",
      "Requirement already satisfied: cycler>=0.10 in ./.venv/lib/python3.9/site-packages (from matplotlib!=3.6.1,>=3.4->seaborn) (0.12.1)\n",
      "Requirement already satisfied: fonttools>=4.22.0 in ./.venv/lib/python3.9/site-packages (from matplotlib!=3.6.1,>=3.4->seaborn) (4.54.1)\n",
      "Requirement already satisfied: kiwisolver>=1.3.1 in ./.venv/lib/python3.9/site-packages (from matplotlib!=3.6.1,>=3.4->seaborn) (1.4.7)\n",
      "Requirement already satisfied: packaging>=20.0 in ./.venv/lib/python3.9/site-packages (from matplotlib!=3.6.1,>=3.4->seaborn) (24.1)\n",
      "Requirement already satisfied: pillow>=8 in ./.venv/lib/python3.9/site-packages (from matplotlib!=3.6.1,>=3.4->seaborn) (11.0.0)\n",
      "Requirement already satisfied: pyparsing>=2.3.1 in ./.venv/lib/python3.9/site-packages (from matplotlib!=3.6.1,>=3.4->seaborn) (3.2.0)\n",
      "Requirement already satisfied: python-dateutil>=2.7 in ./.venv/lib/python3.9/site-packages (from matplotlib!=3.6.1,>=3.4->seaborn) (2.9.0.post0)\n",
      "Requirement already satisfied: importlib-resources>=3.2.0 in ./.venv/lib/python3.9/site-packages (from matplotlib!=3.6.1,>=3.4->seaborn) (6.4.5)\n",
      "Requirement already satisfied: pytz>=2020.1 in ./.venv/lib/python3.9/site-packages (from pandas>=1.2->seaborn) (2024.2)\n",
      "Requirement already satisfied: tzdata>=2022.7 in ./.venv/lib/python3.9/site-packages (from pandas>=1.2->seaborn) (2024.2)\n",
      "Requirement already satisfied: zipp>=3.1.0 in ./.venv/lib/python3.9/site-packages (from importlib-resources>=3.2.0->matplotlib!=3.6.1,>=3.4->seaborn) (3.20.2)\n",
      "Requirement already satisfied: six>=1.5 in ./.venv/lib/python3.9/site-packages (from python-dateutil>=2.7->matplotlib!=3.6.1,>=3.4->seaborn) (1.16.0)\n",
      "Note: you may need to restart the kernel to use updated packages.\n",
      "Requirement already satisfied: pandas in ./.venv/lib/python3.9/site-packages (2.2.3)\n",
      "Requirement already satisfied: numpy>=1.22.4 in ./.venv/lib/python3.9/site-packages (from pandas) (2.0.2)\n",
      "Requirement already satisfied: python-dateutil>=2.8.2 in ./.venv/lib/python3.9/site-packages (from pandas) (2.9.0.post0)\n",
      "Requirement already satisfied: pytz>=2020.1 in ./.venv/lib/python3.9/site-packages (from pandas) (2024.2)\n",
      "Requirement already satisfied: tzdata>=2022.7 in ./.venv/lib/python3.9/site-packages (from pandas) (2024.2)\n",
      "Requirement already satisfied: six>=1.5 in ./.venv/lib/python3.9/site-packages (from python-dateutil>=2.8.2->pandas) (1.16.0)\n",
      "Note: you may need to restart the kernel to use updated packages.\n"
     ]
    }
   ],
   "source": [
    "%pip install matplotlib\n",
    "%pip install yfinance\n",
    "%pip install scipy\n",
    "%pip install seaborn\n",
    "%pip install pandas"
   ]
  },
  {
   "cell_type": "code",
   "execution_count": 2,
   "metadata": {},
   "outputs": [
    {
     "name": "stderr",
     "output_type": "stream",
     "text": [
      "/Users/cherriepoon/shadow/capstone/.venv/lib/python3.9/site-packages/urllib3/__init__.py:35: NotOpenSSLWarning: urllib3 v2 only supports OpenSSL 1.1.1+, currently the 'ssl' module is compiled with 'LibreSSL 2.8.3'. See: https://github.com/urllib3/urllib3/issues/3020\n",
      "  warnings.warn(\n"
     ]
    }
   ],
   "source": [
    "import datetime as dt\n",
    "import yfinance as yf\n",
    "import numpy as np\n",
    "import matplotlib.pyplot as plt\n",
    "import seaborn as sns\n",
    "import pandas as pd\n",
    "import scipy"
   ]
  },
  {
   "cell_type": "code",
   "execution_count": 3,
   "metadata": {},
   "outputs": [],
   "source": [
    "start_date = dt.date(2010,1,1)\n",
    "end_date = dt.date(2023, 12,31)"
   ]
  },
  {
   "cell_type": "code",
   "execution_count": 4,
   "metadata": {},
   "outputs": [
    {
     "name": "stderr",
     "output_type": "stream",
     "text": [
      "[*********************100%***********************]  1 of 1 completed\n"
     ]
    }
   ],
   "source": [
    "sp = yf.download(\"SPY\", start=start_date, end=end_date)"
   ]
  },
  {
   "cell_type": "markdown",
   "metadata": {},
   "source": [
    "## Highlighted stylized facts on the financial asset"
   ]
  },
  {
   "cell_type": "code",
   "execution_count": 5,
   "metadata": {},
   "outputs": [],
   "source": [
    "spy_adj_close = sp['Adj Close']\n",
    "spy_ret = np.log(spy_adj_close).diff()"
   ]
  },
  {
   "cell_type": "code",
   "execution_count": 6,
   "metadata": {},
   "outputs": [
    {
     "data": {
      "text/plain": [
       "<Axes: xlabel='Date'>"
      ]
     },
     "execution_count": 6,
     "metadata": {},
     "output_type": "execute_result"
    },
    {
     "data": {
      "image/png": "[encoded data removed]",
      "text/plain": [
       "<Figure size 640x480 with 1 Axes>"
      ]
     },
     "metadata": {},
     "output_type": "display_data"
    }
   ],
   "source": [
    "# plot return series to show volatility clustering\n",
    "spy_ret.plot()"
   ]
  },
  {
   "cell_type": "code",
   "execution_count": 7,
   "metadata": {},
   "outputs": [],
   "source": [
    "# cdf graphs to show fat tail\n",
    "ref_mean = spy_ret.mean()\n",
    "ref_std = spy_ret.std()\n",
    "\n",
    "norm_reference = np.random.normal(loc=ref_mean, scale=ref_std, size=spy_ret.shape[0])\n"
   ]
  },
  {
   "cell_type": "code",
   "execution_count": 8,
   "metadata": {},
   "outputs": [],
   "source": [
    "plot_df = pd.DataFrame({'Normal Reference': norm_reference, 'SPY Historical Returns': spy_ret}).dropna()"
   ]
  },
  {
   "cell_type": "code",
   "execution_count": 9,
   "metadata": {},
   "outputs": [
    {
     "data": {
      "image/png": "[encoded data removed]",
      "text/plain": [
       "<Figure size 640x480 with 1 Axes>"
      ]
     },
     "metadata": {},
     "output_type": "display_data"
    }
   ],
   "source": [
    "plt.hist(plot_df['SPY Historical Returns'], label='SPY')\n",
    "plt.hist(plot_df['Normal Reference'], label='Normal Ref')\n",
    "plt.legend()\n",
    "plt.show()"
   ]
  },
  {
   "cell_type": "markdown",
   "metadata": {},
   "source": [
    "## Prepare the data for machine learning"
   ]
  },
  {
   "cell_type": "markdown",
   "metadata": {},
   "source": [
    "### Fs conditions for Swing Trader Agent"
   ]
  },
  {
   "cell_type": "code",
   "execution_count": 10,
   "metadata": {},
   "outputs": [],
   "source": [
    "# temporarily we will use a fixed value 5 for the lookback days\n",
    "shift_returns = spy_ret.shift(1) # make decision based on T-1 day to prevent lookahead bias\n",
    "swing_return_lookback_days = 5\n",
    "Fs = shift_returns - shift_returns.shift(swing_return_lookback_days)\n",
    "\n",
    "# if Fs >0 D will follow like a momentum trader\n",
    "# if Fs <0 D will revert to normal and go against the trend"
   ]
  },
  {
   "cell_type": "markdown",
   "metadata": {},
   "source": [
    "### Noise Trader"
   ]
  },
  {
   "cell_type": "code",
   "execution_count": 11,
   "metadata": {},
   "outputs": [
    {
     "data": {
      "text/plain": [
       "np.float64(-0.0008355956255344023)"
      ]
     },
     "metadata": {},
     "output_type": "display_data"
    }
   ],
   "source": [
    "noise_std = spy_ret.std()/ 2 # this parameters will be trained in the machine learning step\n",
    "\n",
    "def one_noise_demand(std):\n",
    "    return std * np.random.standard_normal()\n",
    "\n",
    "demand_noise_sample = one_noise_demand(noise_std)\n",
    "display(demand_noise_sample)"
   ]
  },
  {
   "cell_type": "markdown",
   "metadata": {},
   "source": [
    "### Momentum Trader"
   ]
  },
  {
   "cell_type": "code",
   "execution_count": 12,
   "metadata": {},
   "outputs": [
    {
     "data": {
      "text/plain": [
       "np.float64(0.0013217868922161154)"
      ]
     },
     "metadata": {},
     "output_type": "display_data"
    }
   ],
   "source": [
    "ewma_alpha = 0.05 # fixed parameters, to be tuned in due course\n",
    "ewm_sr = spy_ret.ewm(alpha=ewma_alpha, adjust=False).mean()\n",
    "\n",
    "ewm_lambda = 1 # we will train the Beta parameters for the momentum trader demands, so we choose lambda = 1 for simplicity\n",
    "\n",
    "momentum_beta = 0.5 # training parameters\n",
    "def one_momentum_trader(beta, ewm_t):\n",
    "    return beta * np.tanh(ewm_t)\n",
    "\n",
    "\n",
    "demand_momentum_sample = one_momentum_trader(momentum_beta, ewm_lambda * ewm_sr.iloc[1])\n",
    "display(demand_momentum_sample)\n"
   ]
  },
  {
   "cell_type": "code",
   "execution_count": 13,
   "metadata": {},
   "outputs": [
    {
     "data": {
      "text/plain": [
       "Date\n",
       "2010-01-04         NaN\n",
       "2010-01-05    0.002644\n",
       "2010-01-06    0.000704\n",
       "2010-01-07    0.004212\n",
       "2010-01-08    0.003322\n",
       "                ...   \n",
       "2023-12-22    0.002008\n",
       "2023-12-26    0.004214\n",
       "2023-12-27    0.001806\n",
       "2023-12-28    0.000378\n",
       "2023-12-29   -0.002899\n",
       "Name: Adj Close, Length: 3522, dtype: float64"
      ]
     },
     "execution_count": 13,
     "metadata": {},
     "output_type": "execute_result"
    }
   ],
   "source": [
    "spy_ret"
   ]
  },
  {
   "cell_type": "markdown",
   "metadata": {},
   "source": [
    "### Fundamental Trader"
   ]
  },
  {
   "cell_type": "code",
   "execution_count": 14,
   "metadata": {},
   "outputs": [
    {
     "data": {
      "text/plain": [
       "Date\n",
       "2010-01-04           NaN\n",
       "2010-01-05           NaN\n",
       "2010-01-06           NaN\n",
       "2010-01-07           NaN\n",
       "2010-01-08           NaN\n",
       "                 ...    \n",
       "2023-12-22    418.138618\n",
       "2023-12-26    418.534722\n",
       "2023-12-27    418.952737\n",
       "2023-12-28    419.345000\n",
       "2023-12-29    419.735737\n",
       "Name: Adj Close, Length: 3522, dtype: float64"
      ]
     },
     "metadata": {},
     "output_type": "display_data"
    },
    {
     "data": {
      "text/plain": [
       "np.float64(-0.027665103759765657)"
      ]
     },
     "metadata": {},
     "output_type": "display_data"
    }
   ],
   "source": [
    "# we will use the bull-bear line (MA250) as a simple rule of thumb for the value of the asset\n",
    "bb_lookback_days = 250\n",
    "fundamental_v = 0.2/100 # training parameters\n",
    "\n",
    "def one_fundamental_trader(v, pt, ma250):\n",
    "    return v * (ma250 - pt)\n",
    "\n",
    "spy_ma250 = spy_adj_close.rolling(bb_lookback_days).mean()\n",
    "display(spy_ma250)\n",
    "\n",
    "demand_fundamental_sample = one_fundamental_trader(fundamental_v, spy_adj_close.iloc[-50], spy_ma250.iloc[-50])\n",
    "display(demand_fundamental_sample)"
   ]
  },
  {
   "cell_type": "markdown",
   "metadata": {},
   "source": [
    "### Full input data"
   ]
  },
  {
   "cell_type": "code",
   "execution_count": 15,
   "metadata": {},
   "outputs": [
    {
     "data": {
      "text/html": [
       "<div>\n",
       "<style scoped>\n",
       "    .dataframe tbody tr th:only-of-type {\n",
       "        vertical-align: middle;\n",
       "    }\n",
       "\n",
       "    .dataframe tbody tr th {\n",
       "        vertical-align: top;\n",
       "    }\n",
       "\n",
       "    .dataframe thead th {\n",
       "        text-align: right;\n",
       "    }\n",
       "</style>\n",
       "<table border=\"1\" class=\"dataframe\">\n",
       "  <thead>\n",
       "    <tr style=\"text-align: right;\">\n",
       "      <th></th>\n",
       "      <th>Fs</th>\n",
       "      <th>EWM</th>\n",
       "      <th>Close</th>\n",
       "      <th>F_Value</th>\n",
       "      <th>log_ret</th>\n",
       "    </tr>\n",
       "    <tr>\n",
       "      <th>Date</th>\n",
       "      <th></th>\n",
       "      <th></th>\n",
       "      <th></th>\n",
       "      <th></th>\n",
       "      <th></th>\n",
       "    </tr>\n",
       "  </thead>\n",
       "  <tbody>\n",
       "    <tr>\n",
       "      <th>2010-12-29</th>\n",
       "      <td>-0.000979</td>\n",
       "      <td>0.001718</td>\n",
       "      <td>97.787636</td>\n",
       "      <td>87.580490</td>\n",
       "      <td>0.000715</td>\n",
       "    </tr>\n",
       "    <tr>\n",
       "      <th>2010-12-30</th>\n",
       "      <td>-0.005606</td>\n",
       "      <td>0.001553</td>\n",
       "      <td>97.632324</td>\n",
       "      <td>87.625755</td>\n",
       "      <td>-0.001590</td>\n",
       "    </tr>\n",
       "    <tr>\n",
       "      <th>2010-12-31</th>\n",
       "      <td>-0.004695</td>\n",
       "      <td>0.001487</td>\n",
       "      <td>97.655624</td>\n",
       "      <td>87.670200</td>\n",
       "      <td>0.000239</td>\n",
       "    </tr>\n",
       "    <tr>\n",
       "      <th>2011-01-03</th>\n",
       "      <td>0.001671</td>\n",
       "      <td>0.001927</td>\n",
       "      <td>98.665184</td>\n",
       "      <td>87.718439</td>\n",
       "      <td>0.010285</td>\n",
       "    </tr>\n",
       "    <tr>\n",
       "      <th>2011-01-04</th>\n",
       "      <td>0.009887</td>\n",
       "      <td>0.001803</td>\n",
       "      <td>98.610825</td>\n",
       "      <td>87.764998</td>\n",
       "      <td>-0.000551</td>\n",
       "    </tr>\n",
       "    <tr>\n",
       "      <th>...</th>\n",
       "      <td>...</td>\n",
       "      <td>...</td>\n",
       "      <td>...</td>\n",
       "      <td>...</td>\n",
       "      <td>...</td>\n",
       "    </tr>\n",
       "    <tr>\n",
       "      <th>2023-12-22</th>\n",
       "      <td>0.006233</td>\n",
       "      <td>0.002233</td>\n",
       "      <td>469.225250</td>\n",
       "      <td>418.138618</td>\n",
       "      <td>0.002008</td>\n",
       "    </tr>\n",
       "    <tr>\n",
       "      <th>2023-12-26</th>\n",
       "      <td>0.003656</td>\n",
       "      <td>0.002332</td>\n",
       "      <td>471.206573</td>\n",
       "      <td>418.534722</td>\n",
       "      <td>0.004214</td>\n",
       "    </tr>\n",
       "    <tr>\n",
       "      <th>2023-12-27</th>\n",
       "      <td>-0.001396</td>\n",
       "      <td>0.002306</td>\n",
       "      <td>472.058563</td>\n",
       "      <td>418.952737</td>\n",
       "      <td>0.001806</td>\n",
       "    </tr>\n",
       "    <tr>\n",
       "      <th>2023-12-28</th>\n",
       "      <td>-0.004256</td>\n",
       "      <td>0.002209</td>\n",
       "      <td>472.236847</td>\n",
       "      <td>419.345000</td>\n",
       "      <td>0.000378</td>\n",
       "    </tr>\n",
       "    <tr>\n",
       "      <th>2023-12-29</th>\n",
       "      <td>0.014332</td>\n",
       "      <td>0.001954</td>\n",
       "      <td>470.869751</td>\n",
       "      <td>419.735737</td>\n",
       "      <td>-0.002899</td>\n",
       "    </tr>\n",
       "  </tbody>\n",
       "</table>\n",
       "<p>3273 rows × 5 columns</p>\n",
       "</div>"
      ],
      "text/plain": [
       "                  Fs       EWM       Close     F_Value   log_ret\n",
       "Date                                                            \n",
       "2010-12-29 -0.000979  0.001718   97.787636   87.580490  0.000715\n",
       "2010-12-30 -0.005606  0.001553   97.632324   87.625755 -0.001590\n",
       "2010-12-31 -0.004695  0.001487   97.655624   87.670200  0.000239\n",
       "2011-01-03  0.001671  0.001927   98.665184   87.718439  0.010285\n",
       "2011-01-04  0.009887  0.001803   98.610825   87.764998 -0.000551\n",
       "...              ...       ...         ...         ...       ...\n",
       "2023-12-22  0.006233  0.002233  469.225250  418.138618  0.002008\n",
       "2023-12-26  0.003656  0.002332  471.206573  418.534722  0.004214\n",
       "2023-12-27 -0.001396  0.002306  472.058563  418.952737  0.001806\n",
       "2023-12-28 -0.004256  0.002209  472.236847  419.345000  0.000378\n",
       "2023-12-29  0.014332  0.001954  470.869751  419.735737 -0.002899\n",
       "\n",
       "[3273 rows x 5 columns]"
      ]
     },
     "metadata": {},
     "output_type": "display_data"
    }
   ],
   "source": [
    "input_data = pd.DataFrame({\n",
    "    'Fs': Fs,\n",
    "    'EWM': ewm_sr,\n",
    "    'Close': spy_adj_close,\n",
    "    'F_Value':  spy_ma250,\n",
    "    'log_ret' :spy_ret,\n",
    "}).dropna()\n",
    "# basically we have use some lookback data (EWM/Fs/MA250) so our actual data for trainings starts from 2011\n",
    "display(input_data)"
   ]
  },
  {
   "cell_type": "markdown",
   "metadata": {},
   "source": [
    "## Parameters Calibration - Samples universe"
   ]
  },
  {
   "cell_type": "code",
   "execution_count": 44,
   "metadata": {},
   "outputs": [],
   "source": [
    "# generate some random values for the parameters\n",
    "from scipy.stats import qmc\n",
    "sobol_sam = qmc.Sobol(d=3)\n",
    "parameter_universe = sobol_sam.random_base2(m=15)"
   ]
  },
  {
   "cell_type": "code",
   "execution_count": 45,
   "metadata": {},
   "outputs": [],
   "source": [
    "# sample simulation using a randomly selected params\n",
    "import random\n",
    "initialized_samples = random.choices(parameter_universe, k=6000)"
   ]
  },
  {
   "cell_type": "markdown",
   "metadata": {},
   "source": [
    "### Illustration for 1 iteration of generating parameters to loss mappings"
   ]
  },
  {
   "cell_type": "code",
   "execution_count": 46,
   "metadata": {},
   "outputs": [
    {
     "data": {
      "text/plain": [
       "(np.float64(0.20701147243380547),\n",
       " np.float64(0.38193235732614994),\n",
       " np.float64(0.4594974424690008))"
      ]
     },
     "execution_count": 46,
     "metadata": {},
     "output_type": "execute_result"
    }
   ],
   "source": [
    "fundamental_v, momentum_beta, noise_std =initialized_samples[0]\n",
    "fundamental_v, momentum_beta, noise_std \n"
   ]
  },
  {
   "cell_type": "code",
   "execution_count": 47,
   "metadata": {},
   "outputs": [
    {
     "data": {
      "text/html": [
       "<div>\n",
       "<style scoped>\n",
       "    .dataframe tbody tr th:only-of-type {\n",
       "        vertical-align: middle;\n",
       "    }\n",
       "\n",
       "    .dataframe tbody tr th {\n",
       "        vertical-align: top;\n",
       "    }\n",
       "\n",
       "    .dataframe thead th {\n",
       "        text-align: right;\n",
       "    }\n",
       "</style>\n",
       "<table border=\"1\" class=\"dataframe\">\n",
       "  <thead>\n",
       "    <tr style=\"text-align: right;\">\n",
       "      <th></th>\n",
       "      <th>Fs</th>\n",
       "      <th>EWM</th>\n",
       "      <th>Close</th>\n",
       "      <th>F_Value</th>\n",
       "      <th>log_ret</th>\n",
       "    </tr>\n",
       "    <tr>\n",
       "      <th>Date</th>\n",
       "      <th></th>\n",
       "      <th></th>\n",
       "      <th></th>\n",
       "      <th></th>\n",
       "      <th></th>\n",
       "    </tr>\n",
       "  </thead>\n",
       "  <tbody>\n",
       "    <tr>\n",
       "      <th>2010-12-29</th>\n",
       "      <td>-0.000979</td>\n",
       "      <td>0.001718</td>\n",
       "      <td>97.787636</td>\n",
       "      <td>87.580490</td>\n",
       "      <td>0.000715</td>\n",
       "    </tr>\n",
       "    <tr>\n",
       "      <th>2010-12-30</th>\n",
       "      <td>-0.005606</td>\n",
       "      <td>0.001553</td>\n",
       "      <td>97.632324</td>\n",
       "      <td>87.625755</td>\n",
       "      <td>-0.001590</td>\n",
       "    </tr>\n",
       "    <tr>\n",
       "      <th>2010-12-31</th>\n",
       "      <td>-0.004695</td>\n",
       "      <td>0.001487</td>\n",
       "      <td>97.655624</td>\n",
       "      <td>87.670200</td>\n",
       "      <td>0.000239</td>\n",
       "    </tr>\n",
       "    <tr>\n",
       "      <th>2011-01-03</th>\n",
       "      <td>0.001671</td>\n",
       "      <td>0.001927</td>\n",
       "      <td>98.665184</td>\n",
       "      <td>87.718439</td>\n",
       "      <td>0.010285</td>\n",
       "    </tr>\n",
       "    <tr>\n",
       "      <th>2011-01-04</th>\n",
       "      <td>0.009887</td>\n",
       "      <td>0.001803</td>\n",
       "      <td>98.610825</td>\n",
       "      <td>87.764998</td>\n",
       "      <td>-0.000551</td>\n",
       "    </tr>\n",
       "  </tbody>\n",
       "</table>\n",
       "</div>"
      ],
      "text/plain": [
       "                  Fs       EWM      Close    F_Value   log_ret\n",
       "Date                                                          \n",
       "2010-12-29 -0.000979  0.001718  97.787636  87.580490  0.000715\n",
       "2010-12-30 -0.005606  0.001553  97.632324  87.625755 -0.001590\n",
       "2010-12-31 -0.004695  0.001487  97.655624  87.670200  0.000239\n",
       "2011-01-03  0.001671  0.001927  98.665184  87.718439  0.010285\n",
       "2011-01-04  0.009887  0.001803  98.610825  87.764998 -0.000551"
      ]
     },
     "metadata": {},
     "output_type": "display_data"
    },
    {
     "data": {
      "text/html": [
       "<div>\n",
       "<style scoped>\n",
       "    .dataframe tbody tr th:only-of-type {\n",
       "        vertical-align: middle;\n",
       "    }\n",
       "\n",
       "    .dataframe tbody tr th {\n",
       "        vertical-align: top;\n",
       "    }\n",
       "\n",
       "    .dataframe thead th {\n",
       "        text-align: right;\n",
       "    }\n",
       "</style>\n",
       "<table border=\"1\" class=\"dataframe\">\n",
       "  <thead>\n",
       "    <tr style=\"text-align: right;\">\n",
       "      <th></th>\n",
       "      <th>Fs</th>\n",
       "      <th>EWM</th>\n",
       "      <th>Close</th>\n",
       "      <th>F_Value</th>\n",
       "      <th>log_ret</th>\n",
       "    </tr>\n",
       "    <tr>\n",
       "      <th>Date</th>\n",
       "      <th></th>\n",
       "      <th></th>\n",
       "      <th></th>\n",
       "      <th></th>\n",
       "      <th></th>\n",
       "    </tr>\n",
       "  </thead>\n",
       "  <tbody>\n",
       "    <tr>\n",
       "      <th>2023-12-22</th>\n",
       "      <td>0.006233</td>\n",
       "      <td>0.002233</td>\n",
       "      <td>469.225250</td>\n",
       "      <td>418.138618</td>\n",
       "      <td>0.002008</td>\n",
       "    </tr>\n",
       "    <tr>\n",
       "      <th>2023-12-26</th>\n",
       "      <td>0.003656</td>\n",
       "      <td>0.002332</td>\n",
       "      <td>471.206573</td>\n",
       "      <td>418.534722</td>\n",
       "      <td>0.004214</td>\n",
       "    </tr>\n",
       "    <tr>\n",
       "      <th>2023-12-27</th>\n",
       "      <td>-0.001396</td>\n",
       "      <td>0.002306</td>\n",
       "      <td>472.058563</td>\n",
       "      <td>418.952737</td>\n",
       "      <td>0.001806</td>\n",
       "    </tr>\n",
       "    <tr>\n",
       "      <th>2023-12-28</th>\n",
       "      <td>-0.004256</td>\n",
       "      <td>0.002209</td>\n",
       "      <td>472.236847</td>\n",
       "      <td>419.345000</td>\n",
       "      <td>0.000378</td>\n",
       "    </tr>\n",
       "    <tr>\n",
       "      <th>2023-12-29</th>\n",
       "      <td>0.014332</td>\n",
       "      <td>0.001954</td>\n",
       "      <td>470.869751</td>\n",
       "      <td>419.735737</td>\n",
       "      <td>-0.002899</td>\n",
       "    </tr>\n",
       "  </tbody>\n",
       "</table>\n",
       "</div>"
      ],
      "text/plain": [
       "                  Fs       EWM       Close     F_Value   log_ret\n",
       "Date                                                            \n",
       "2023-12-22  0.006233  0.002233  469.225250  418.138618  0.002008\n",
       "2023-12-26  0.003656  0.002332  471.206573  418.534722  0.004214\n",
       "2023-12-27 -0.001396  0.002306  472.058563  418.952737  0.001806\n",
       "2023-12-28 -0.004256  0.002209  472.236847  419.345000  0.000378\n",
       "2023-12-29  0.014332  0.001954  470.869751  419.735737 -0.002899"
      ]
     },
     "metadata": {},
     "output_type": "display_data"
    }
   ],
   "source": [
    "display(input_data.head())\n",
    "display(input_data.tail())\n"
   ]
  },
  {
   "cell_type": "code",
   "execution_count": 48,
   "metadata": {},
   "outputs": [
    {
     "data": {
      "text/plain": [
       "np.float64(97.78763580322266)"
      ]
     },
     "metadata": {},
     "output_type": "display_data"
    }
   ],
   "source": [
    "# copy trader functions from above\n",
    "def one_fundamental_trader(v, pt, ma250):\n",
    "    return v * (ma250 - pt)\n",
    "\n",
    "def one_momentum_trader(beta, ewm_t):\n",
    "    return beta * np.tanh(ewm_t)\n",
    "\n",
    "def one_noise_demand(std):\n",
    "    return std * np.random.standard_normal()\n",
    "\n",
    "# start one round of simulation with the selected params\n",
    "\n",
    "p_cur = input_data.iloc[0]['Close']\n",
    "display (p_cur)\n",
    "\n",
    "def simulate_price_series():\n",
    "    p_cur = input_data.iloc[0]['Close']\n",
    "    yield input_data.iloc[0].name, p_cur\n",
    "    for date, fs, ewm, _, f_value, _ in input_data[1:].itertuples():\n",
    "        demand = one_fundamental_trader(fundamental_v, p_cur, f_value) +  one_momentum_trader(momentum_beta, ewm) + one_noise_demand(noise_std)\n",
    "        if fs >0:\n",
    "            demand += one_momentum_trader(momentum_beta, ewm)\n",
    "        else:\n",
    "            demand += one_fundamental_trader(fundamental_v, p_cur, f_value)\n",
    "        p_next = p_cur+demand\n",
    "        yield date, p_next\n",
    "        p_cur = p_next\n",
    "\n",
    "sr = pd.Series(dict(simulate_price_series()))\n",
    "sim_return_sr = np.log(sr).diff()"
   ]
  },
  {
   "cell_type": "markdown",
   "metadata": {},
   "source": [
    "### Calculate the loss function"
   ]
  },
  {
   "cell_type": "code",
   "execution_count": 49,
   "metadata": {},
   "outputs": [],
   "source": [
    "def absolute_hill_estimator(ret_sr, threshold = 100):\n",
    "    cleaned_sr = ret_sr.copy().replace(0, np.nan).dropna().abs() # ignore 0 ret days and take absolute\n",
    "    ysort = np.sort(cleaned_sr)\n",
    "    iota = 1/(np.mean(np.log(ysort[0:threshold]/ysort[threshold]))) # get the tail index\n",
    "    return iota"
   ]
  },
  {
   "cell_type": "code",
   "execution_count": 50,
   "metadata": {},
   "outputs": [],
   "source": [
    "hist_ret_sr = input_data.log_ret\n",
    "historical_hill = absolute_hill_estimator(hist_ret_sr)\n",
    "sim_hill = absolute_hill_estimator(sim_return_sr)\n",
    "d_hill = abs(sim_hill - historical_hill)"
   ]
  },
  {
   "cell_type": "code",
   "execution_count": 51,
   "metadata": {},
   "outputs": [],
   "source": [
    "sim_vol = sim_return_sr.std()\n",
    "hist_vol = hist_ret_sr.std()\n",
    "d_vol = abs(sim_vol - hist_vol)"
   ]
  },
  {
   "cell_type": "code",
   "execution_count": 52,
   "metadata": {},
   "outputs": [],
   "source": [
    "lags = [30, 31, 32, 60, 61, 62, 90, 91, 92]\n",
    "autocorr_diff_sum = sum([abs(sim_return_sr.autocorr(l) - hist_ret_sr.autocorr(l)) for l in lags])\n",
    "d_auto_corr = autocorr_diff_sum/ len(lags)"
   ]
  },
  {
   "cell_type": "code",
   "execution_count": 53,
   "metadata": {},
   "outputs": [],
   "source": [
    "sqaured_auto_corr_diff_sum = sum([abs(np.square(sim_return_sr).autocorr(l) - np.square(hist_ret_sr).autocorr(l)) for l in lags])\n",
    "d_auto_corr_squared = sqaured_auto_corr_diff_sum/ len(lags)"
   ]
  },
  {
   "cell_type": "code",
   "execution_count": 54,
   "metadata": {},
   "outputs": [],
   "source": [
    "loss = d_hill + d_vol + d_auto_corr + d_auto_corr_squared"
   ]
  },
  {
   "cell_type": "code",
   "execution_count": 55,
   "metadata": {},
   "outputs": [],
   "source": [
    "def distance_loss_function(hist_ret, sim_ret):\n",
    "    historical_hill = absolute_hill_estimator(hist_ret)\n",
    "    sim_hill = absolute_hill_estimator(sim_ret)\n",
    "    d_hill = abs(sim_hill - historical_hill)\n",
    "\n",
    "    sim_vol = sim_ret.std()\n",
    "    hist_vol = hist_ret.std()\n",
    "    d_vol = abs(sim_vol - hist_vol)\n",
    "\n",
    "    lags = [30, 31, 32, 60, 61, 62, 90, 91, 92]\n",
    "    autocorr_diff_sum = sum([abs(sim_ret.autocorr(l) - hist_ret.autocorr(l)) for l in lags])\n",
    "    d_auto_corr = autocorr_diff_sum/ len(lags)\n",
    "\n",
    "    sqaured_auto_corr_diff_sum = sum([abs(np.square(sim_ret).autocorr(l) - np.square(hist_ret).autocorr(l)) for l in lags])\n",
    "    d_auto_corr_squared = sqaured_auto_corr_diff_sum/ len(lags)\n",
    "    return d_hill + d_vol + d_auto_corr + d_auto_corr_squared"
   ]
  },
  {
   "cell_type": "code",
   "execution_count": 56,
   "metadata": {},
   "outputs": [
    {
     "data": {
      "text/html": [
       "<div>\n",
       "<style scoped>\n",
       "    .dataframe tbody tr th:only-of-type {\n",
       "        vertical-align: middle;\n",
       "    }\n",
       "\n",
       "    .dataframe tbody tr th {\n",
       "        vertical-align: top;\n",
       "    }\n",
       "\n",
       "    .dataframe thead th {\n",
       "        text-align: right;\n",
       "    }\n",
       "</style>\n",
       "<table border=\"1\" class=\"dataframe\">\n",
       "  <thead>\n",
       "    <tr style=\"text-align: right;\">\n",
       "      <th></th>\n",
       "      <th>fundamental_v</th>\n",
       "      <th>momentum_beta</th>\n",
       "      <th>noise_std</th>\n",
       "      <th>loss</th>\n",
       "    </tr>\n",
       "  </thead>\n",
       "  <tbody>\n",
       "    <tr>\n",
       "      <th>0</th>\n",
       "      <td>0.207011</td>\n",
       "      <td>0.381932</td>\n",
       "      <td>0.459497</td>\n",
       "      <td>0.547107</td>\n",
       "    </tr>\n",
       "  </tbody>\n",
       "</table>\n",
       "</div>"
      ],
      "text/plain": [
       "   fundamental_v  momentum_beta  noise_std      loss\n",
       "0       0.207011       0.381932   0.459497  0.547107"
      ]
     },
     "execution_count": 56,
     "metadata": {},
     "output_type": "execute_result"
    }
   ],
   "source": [
    "surrogate_training_data = pd.DataFrame({'fundamental_v': fundamental_v, 'momentum_beta': momentum_beta, 'noise_std':noise_std , 'loss': loss}, index=[0])\n",
    "surrogate_training_data"
   ]
  },
  {
   "cell_type": "markdown",
   "metadata": {},
   "source": [
    "This shows how 1 iteration of params => loss will be generated for training the surrogate model, now we will create 10_000 points"
   ]
  },
  {
   "cell_type": "markdown",
   "metadata": {},
   "source": [
    "### Generating all mappings"
   ]
  },
  {
   "cell_type": "code",
   "execution_count": 95,
   "metadata": {},
   "outputs": [],
   "source": [
    "hist_ret_sr = input_data.log_ret\n",
    "training_set_1 = {(v,beta,std) for v,beta,std in initialized_samples}\n",
    "def generate_trainings(train_data):\n",
    "    for idx, (fundamental_v, momentum_beta, noise_std) in enumerate(train_data):\n",
    "        def simulate_price_series():\n",
    "            p_cur = input_data.iloc[0]['Close']\n",
    "            yield input_data.iloc[0].name, p_cur\n",
    "            for date, fs, ewm, _, f_value, _ in input_data[1:].itertuples():\n",
    "                demand = one_fundamental_trader(fundamental_v, p_cur, f_value) +  one_momentum_trader(momentum_beta, ewm) + one_noise_demand(noise_std)\n",
    "                if fs >0:\n",
    "                    demand += one_momentum_trader(momentum_beta, ewm)\n",
    "                else:\n",
    "                    demand += one_fundamental_trader(fundamental_v, p_cur, f_value)\n",
    "                p_next = p_cur+demand\n",
    "                yield date, p_next\n",
    "                p_cur = p_next\n",
    "        \n",
    "        sr = pd.Series(dict(simulate_price_series()))\n",
    "        sim_return_sr = np.log(sr).diff()\n",
    "        loss = distance_loss_function(hist_ret_sr, sim_return_sr)\n",
    "        print('.', end='\\n' if idx %400 ==0 and idx >0 else '')\n",
    "        yield fundamental_v,   momentum_beta,  noise_std ,   loss"
   ]
  },
  {
   "cell_type": "code",
   "execution_count": null,
   "metadata": {},
   "outputs": [
    {
     "name": "stdout",
     "output_type": "stream",
     "text": [
      ".................................................................................................................................................................................................................................................................................................................................................................................................................\n",
      "................................................................................................................................................................................................................................................................................................................................................................................................................\n",
      "................................................................................................................................................................................................................................................................................................................................................................................................................\n",
      "................................................................................................................................................................................................................................................................................................................................................................................................................\n",
      "................................................................................................................................................................................................................................................................................................................................................................................................................\n",
      "................................................................................................................................................................................................................................................................................................................................................................................................................\n",
      "................................................................................................................................................................................................................................................................................................................................................................................................................\n",
      "................................................................................................................................................................................................................................................................................................................................................................................................................\n",
      "................................................................................................................................................................................................................................................................................................................................................................................................................\n",
      "................................................................................................................................................................................................................................................................................................................................................................................................................\n",
      "................................................................................................................................................................................................................................................................................................................................................................................................................\n",
      "................................................................................................................................................................................................................................................................................................................................................................................................................\n",
      "................................................................................................................................................................................................................................................................................................................................................................................................................\n",
      ".........................................................................................................................................................................................................................................................."
     ]
    }
   ],
   "source": [
    "labelled_data_1 = list(generate_trainings(training_set_1))"
   ]
  },
  {
   "cell_type": "code",
   "execution_count": null,
   "metadata": {},
   "outputs": [],
   "source": [
    "xgboost_train_data = pd.DataFrame(labelled_data_1, columns=['fundamental_v',   'momentum_beta',  'noise_std' ,   'loss'])"
   ]
  },
  {
   "cell_type": "code",
   "execution_count": 83,
   "metadata": {},
   "outputs": [],
   "source": [
    "xgboost_train_data.to_csv('xg_train_data.csv')"
   ]
  },
  {
   "cell_type": "markdown",
   "metadata": {},
   "source": [
    "## Train XGB for efficient loss estimation without actually running the demand model"
   ]
  },
  {
   "cell_type": "code",
   "execution_count": 84,
   "metadata": {},
   "outputs": [],
   "source": [
    "import xgboost as xgb\n",
    "import pandas as pd\n",
    "xgboost_train_data = pd.read_csv('xg_train_data.csv',index_col=0)"
   ]
  },
  {
   "cell_type": "code",
   "execution_count": 85,
   "metadata": {},
   "outputs": [
    {
     "data": {
      "text/html": [
       "<div>\n",
       "<style scoped>\n",
       "    .dataframe tbody tr th:only-of-type {\n",
       "        vertical-align: middle;\n",
       "    }\n",
       "\n",
       "    .dataframe tbody tr th {\n",
       "        vertical-align: top;\n",
       "    }\n",
       "\n",
       "    .dataframe thead th {\n",
       "        text-align: right;\n",
       "    }\n",
       "</style>\n",
       "<table border=\"1\" class=\"dataframe\">\n",
       "  <thead>\n",
       "    <tr style=\"text-align: right;\">\n",
       "      <th></th>\n",
       "      <th>fundamental_v</th>\n",
       "      <th>momentum_beta</th>\n",
       "      <th>noise_std</th>\n",
       "      <th>loss</th>\n",
       "    </tr>\n",
       "  </thead>\n",
       "  <tbody>\n",
       "    <tr>\n",
       "      <th>0</th>\n",
       "      <td>0.790044</td>\n",
       "      <td>0.160668</td>\n",
       "      <td>0.203786</td>\n",
       "      <td>0.348881</td>\n",
       "    </tr>\n",
       "    <tr>\n",
       "      <th>1</th>\n",
       "      <td>0.295818</td>\n",
       "      <td>0.478174</td>\n",
       "      <td>0.270008</td>\n",
       "      <td>0.369558</td>\n",
       "    </tr>\n",
       "    <tr>\n",
       "      <th>2</th>\n",
       "      <td>0.097978</td>\n",
       "      <td>0.140863</td>\n",
       "      <td>0.537308</td>\n",
       "      <td>0.356803</td>\n",
       "    </tr>\n",
       "    <tr>\n",
       "      <th>3</th>\n",
       "      <td>0.315018</td>\n",
       "      <td>0.807071</td>\n",
       "      <td>0.074952</td>\n",
       "      <td>0.517568</td>\n",
       "    </tr>\n",
       "    <tr>\n",
       "      <th>4</th>\n",
       "      <td>0.320663</td>\n",
       "      <td>0.096098</td>\n",
       "      <td>0.461914</td>\n",
       "      <td>0.378570</td>\n",
       "    </tr>\n",
       "    <tr>\n",
       "      <th>...</th>\n",
       "      <td>...</td>\n",
       "      <td>...</td>\n",
       "      <td>...</td>\n",
       "      <td>...</td>\n",
       "    </tr>\n",
       "    <tr>\n",
       "      <th>5446</th>\n",
       "      <td>0.242608</td>\n",
       "      <td>0.831971</td>\n",
       "      <td>0.219895</td>\n",
       "      <td>0.653947</td>\n",
       "    </tr>\n",
       "    <tr>\n",
       "      <th>5447</th>\n",
       "      <td>0.801348</td>\n",
       "      <td>0.333105</td>\n",
       "      <td>0.605539</td>\n",
       "      <td>0.445973</td>\n",
       "    </tr>\n",
       "    <tr>\n",
       "      <th>5448</th>\n",
       "      <td>0.407352</td>\n",
       "      <td>0.594255</td>\n",
       "      <td>0.927488</td>\n",
       "      <td>0.602350</td>\n",
       "    </tr>\n",
       "    <tr>\n",
       "      <th>5449</th>\n",
       "      <td>0.252412</td>\n",
       "      <td>0.576667</td>\n",
       "      <td>0.852707</td>\n",
       "      <td>0.715041</td>\n",
       "    </tr>\n",
       "    <tr>\n",
       "      <th>5450</th>\n",
       "      <td>0.862211</td>\n",
       "      <td>0.802928</td>\n",
       "      <td>0.667244</td>\n",
       "      <td>0.577214</td>\n",
       "    </tr>\n",
       "  </tbody>\n",
       "</table>\n",
       "<p>5451 rows × 4 columns</p>\n",
       "</div>"
      ],
      "text/plain": [
       "      fundamental_v  momentum_beta  noise_std      loss\n",
       "0          0.790044       0.160668   0.203786  0.348881\n",
       "1          0.295818       0.478174   0.270008  0.369558\n",
       "2          0.097978       0.140863   0.537308  0.356803\n",
       "3          0.315018       0.807071   0.074952  0.517568\n",
       "4          0.320663       0.096098   0.461914  0.378570\n",
       "...             ...            ...        ...       ...\n",
       "5446       0.242608       0.831971   0.219895  0.653947\n",
       "5447       0.801348       0.333105   0.605539  0.445973\n",
       "5448       0.407352       0.594255   0.927488  0.602350\n",
       "5449       0.252412       0.576667   0.852707  0.715041\n",
       "5450       0.862211       0.802928   0.667244  0.577214\n",
       "\n",
       "[5451 rows x 4 columns]"
      ]
     },
     "execution_count": 85,
     "metadata": {},
     "output_type": "execute_result"
    }
   ],
   "source": [
    "xgboost_train_data"
   ]
  },
  {
   "cell_type": "code",
   "execution_count": 86,
   "metadata": {},
   "outputs": [],
   "source": [
    "xgb_regressor = xgb.XGBRegressor(tree_method=\"hist\")"
   ]
  },
  {
   "cell_type": "code",
   "execution_count": 87,
   "metadata": {},
   "outputs": [
    {
     "data": {
      "text/html": [
       "<style>#sk-container-id-3 {\n",
       "  /* Definition of color scheme common for light and dark mode */\n",
       "  --sklearn-color-text: black;\n",
       "  --sklearn-color-line: gray;\n",
       "  /* Definition of color scheme for unfitted estimators */\n",
       "  --sklearn-color-unfitted-level-0: #fff5e6;\n",
       "  --sklearn-color-unfitted-level-1: #f6e4d2;\n",
       "  --sklearn-color-unfitted-level-2: #ffe0b3;\n",
       "  --sklearn-color-unfitted-level-3: chocolate;\n",
       "  /* Definition of color scheme for fitted estimators */\n",
       "  --sklearn-color-fitted-level-0: #f0f8ff;\n",
       "  --sklearn-color-fitted-level-1: #d4ebff;\n",
       "  --sklearn-color-fitted-level-2: #b3dbfd;\n",
       "  --sklearn-color-fitted-level-3: cornflowerblue;\n",
       "\n",
       "  /* Specific color for light theme */\n",
       "  --sklearn-color-text-on-default-background: var(--sg-text-color, var(--theme-code-foreground, var(--jp-content-font-color1, black)));\n",
       "  --sklearn-color-background: var(--sg-background-color, var(--theme-background, var(--jp-layout-color0, white)));\n",
       "  --sklearn-color-border-box: var(--sg-text-color, var(--theme-code-foreground, var(--jp-content-font-color1, black)));\n",
       "  --sklearn-color-icon: #696969;\n",
       "\n",
       "  @media (prefers-color-scheme: dark) {\n",
       "    /* Redefinition of color scheme for dark theme */\n",
       "    --sklearn-color-text-on-default-background: var(--sg-text-color, var(--theme-code-foreground, var(--jp-content-font-color1, white)));\n",
       "    --sklearn-color-background: var(--sg-background-color, var(--theme-background, var(--jp-layout-color0, #111)));\n",
       "    --sklearn-color-border-box: var(--sg-text-color, var(--theme-code-foreground, var(--jp-content-font-color1, white)));\n",
       "    --sklearn-color-icon: #878787;\n",
       "  }\n",
       "}\n",
       "\n",
       "#sk-container-id-3 {\n",
       "  color: var(--sklearn-color-text);\n",
       "}\n",
       "\n",
       "#sk-container-id-3 pre {\n",
       "  padding: 0;\n",
       "}\n",
       "\n",
       "#sk-container-id-3 input.sk-hidden--visually {\n",
       "  border: 0;\n",
       "  clip: rect(1px 1px 1px 1px);\n",
       "  clip: rect(1px, 1px, 1px, 1px);\n",
       "  height: 1px;\n",
       "  margin: -1px;\n",
       "  overflow: hidden;\n",
       "  padding: 0;\n",
       "  position: absolute;\n",
       "  width: 1px;\n",
       "}\n",
       "\n",
       "#sk-container-id-3 div.sk-dashed-wrapped {\n",
       "  border: 1px dashed var(--sklearn-color-line);\n",
       "  margin: 0 0.4em 0.5em 0.4em;\n",
       "  box-sizing: border-box;\n",
       "  padding-bottom: 0.4em;\n",
       "  background-color: var(--sklearn-color-background);\n",
       "}\n",
       "\n",
       "#sk-container-id-3 div.sk-container {\n",
       "  /* jupyter's `normalize.less` sets `[hidden] { display: none; }`\n",
       "     but bootstrap.min.css set `[hidden] { display: none !important; }`\n",
       "     so we also need the `!important` here to be able to override the\n",
       "     default hidden behavior on the sphinx rendered scikit-learn.org.\n",
       "     See: https://github.com/scikit-learn/scikit-learn/issues/21755 */\n",
       "  display: inline-block !important;\n",
       "  position: relative;\n",
       "}\n",
       "\n",
       "#sk-container-id-3 div.sk-text-repr-fallback {\n",
       "  display: none;\n",
       "}\n",
       "\n",
       "div.sk-parallel-item,\n",
       "div.sk-serial,\n",
       "div.sk-item {\n",
       "  /* draw centered vertical line to link estimators */\n",
       "  background-image: linear-gradient(var(--sklearn-color-text-on-default-background), var(--sklearn-color-text-on-default-background));\n",
       "  background-size: 2px 100%;\n",
       "  background-repeat: no-repeat;\n",
       "  background-position: center center;\n",
       "}\n",
       "\n",
       "/* Parallel-specific style estimator block */\n",
       "\n",
       "#sk-container-id-3 div.sk-parallel-item::after {\n",
       "  content: \"\";\n",
       "  width: 100%;\n",
       "  border-bottom: 2px solid var(--sklearn-color-text-on-default-background);\n",
       "  flex-grow: 1;\n",
       "}\n",
       "\n",
       "#sk-container-id-3 div.sk-parallel {\n",
       "  display: flex;\n",
       "  align-items: stretch;\n",
       "  justify-content: center;\n",
       "  background-color: var(--sklearn-color-background);\n",
       "  position: relative;\n",
       "}\n",
       "\n",
       "#sk-container-id-3 div.sk-parallel-item {\n",
       "  display: flex;\n",
       "  flex-direction: column;\n",
       "}\n",
       "\n",
       "#sk-container-id-3 div.sk-parallel-item:first-child::after {\n",
       "  align-self: flex-end;\n",
       "  width: 50%;\n",
       "}\n",
       "\n",
       "#sk-container-id-3 div.sk-parallel-item:last-child::after {\n",
       "  align-self: flex-start;\n",
       "  width: 50%;\n",
       "}\n",
       "\n",
       "#sk-container-id-3 div.sk-parallel-item:only-child::after {\n",
       "  width: 0;\n",
       "}\n",
       "\n",
       "/* Serial-specific style estimator block */\n",
       "\n",
       "#sk-container-id-3 div.sk-serial {\n",
       "  display: flex;\n",
       "  flex-direction: column;\n",
       "  align-items: center;\n",
       "  background-color: var(--sklearn-color-background);\n",
       "  padding-right: 1em;\n",
       "  padding-left: 1em;\n",
       "}\n",
       "\n",
       "\n",
       "/* Toggleable style: style used for estimator/Pipeline/ColumnTransformer box that is\n",
       "clickable and can be expanded/collapsed.\n",
       "- Pipeline and ColumnTransformer use this feature and define the default style\n",
       "- Estimators will overwrite some part of the style using the `sk-estimator` class\n",
       "*/\n",
       "\n",
       "/* Pipeline and ColumnTransformer style (default) */\n",
       "\n",
       "#sk-container-id-3 div.sk-toggleable {\n",
       "  /* Default theme specific background. It is overwritten whether we have a\n",
       "  specific estimator or a Pipeline/ColumnTransformer */\n",
       "  background-color: var(--sklearn-color-background);\n",
       "}\n",
       "\n",
       "/* Toggleable label */\n",
       "#sk-container-id-3 label.sk-toggleable__label {\n",
       "  cursor: pointer;\n",
       "  display: block;\n",
       "  width: 100%;\n",
       "  margin-bottom: 0;\n",
       "  padding: 0.5em;\n",
       "  box-sizing: border-box;\n",
       "  text-align: center;\n",
       "}\n",
       "\n",
       "#sk-container-id-3 label.sk-toggleable__label-arrow:before {\n",
       "  /* Arrow on the left of the label */\n",
       "  content: \"▸\";\n",
       "  float: left;\n",
       "  margin-right: 0.25em;\n",
       "  color: var(--sklearn-color-icon);\n",
       "}\n",
       "\n",
       "#sk-container-id-3 label.sk-toggleable__label-arrow:hover:before {\n",
       "  color: var(--sklearn-color-text);\n",
       "}\n",
       "\n",
       "/* Toggleable content - dropdown */\n",
       "\n",
       "#sk-container-id-3 div.sk-toggleable__content {\n",
       "  max-height: 0;\n",
       "  max-width: 0;\n",
       "  overflow: hidden;\n",
       "  text-align: left;\n",
       "  /* unfitted */\n",
       "  background-color: var(--sklearn-color-unfitted-level-0);\n",
       "}\n",
       "\n",
       "#sk-container-id-3 div.sk-toggleable__content.fitted {\n",
       "  /* fitted */\n",
       "  background-color: var(--sklearn-color-fitted-level-0);\n",
       "}\n",
       "\n",
       "#sk-container-id-3 div.sk-toggleable__content pre {\n",
       "  margin: 0.2em;\n",
       "  border-radius: 0.25em;\n",
       "  color: var(--sklearn-color-text);\n",
       "  /* unfitted */\n",
       "  background-color: var(--sklearn-color-unfitted-level-0);\n",
       "}\n",
       "\n",
       "#sk-container-id-3 div.sk-toggleable__content.fitted pre {\n",
       "  /* unfitted */\n",
       "  background-color: var(--sklearn-color-fitted-level-0);\n",
       "}\n",
       "\n",
       "#sk-container-id-3 input.sk-toggleable__control:checked~div.sk-toggleable__content {\n",
       "  /* Expand drop-down */\n",
       "  max-height: 200px;\n",
       "  max-width: 100%;\n",
       "  overflow: auto;\n",
       "}\n",
       "\n",
       "#sk-container-id-3 input.sk-toggleable__control:checked~label.sk-toggleable__label-arrow:before {\n",
       "  content: \"▾\";\n",
       "}\n",
       "\n",
       "/* Pipeline/ColumnTransformer-specific style */\n",
       "\n",
       "#sk-container-id-3 div.sk-label input.sk-toggleable__control:checked~label.sk-toggleable__label {\n",
       "  color: var(--sklearn-color-text);\n",
       "  background-color: var(--sklearn-color-unfitted-level-2);\n",
       "}\n",
       "\n",
       "#sk-container-id-3 div.sk-label.fitted input.sk-toggleable__control:checked~label.sk-toggleable__label {\n",
       "  background-color: var(--sklearn-color-fitted-level-2);\n",
       "}\n",
       "\n",
       "/* Estimator-specific style */\n",
       "\n",
       "/* Colorize estimator box */\n",
       "#sk-container-id-3 div.sk-estimator input.sk-toggleable__control:checked~label.sk-toggleable__label {\n",
       "  /* unfitted */\n",
       "  background-color: var(--sklearn-color-unfitted-level-2);\n",
       "}\n",
       "\n",
       "#sk-container-id-3 div.sk-estimator.fitted input.sk-toggleable__control:checked~label.sk-toggleable__label {\n",
       "  /* fitted */\n",
       "  background-color: var(--sklearn-color-fitted-level-2);\n",
       "}\n",
       "\n",
       "#sk-container-id-3 div.sk-label label.sk-toggleable__label,\n",
       "#sk-container-id-3 div.sk-label label {\n",
       "  /* The background is the default theme color */\n",
       "  color: var(--sklearn-color-text-on-default-background);\n",
       "}\n",
       "\n",
       "/* On hover, darken the color of the background */\n",
       "#sk-container-id-3 div.sk-label:hover label.sk-toggleable__label {\n",
       "  color: var(--sklearn-color-text);\n",
       "  background-color: var(--sklearn-color-unfitted-level-2);\n",
       "}\n",
       "\n",
       "/* Label box, darken color on hover, fitted */\n",
       "#sk-container-id-3 div.sk-label.fitted:hover label.sk-toggleable__label.fitted {\n",
       "  color: var(--sklearn-color-text);\n",
       "  background-color: var(--sklearn-color-fitted-level-2);\n",
       "}\n",
       "\n",
       "/* Estimator label */\n",
       "\n",
       "#sk-container-id-3 div.sk-label label {\n",
       "  font-family: monospace;\n",
       "  font-weight: bold;\n",
       "  display: inline-block;\n",
       "  line-height: 1.2em;\n",
       "}\n",
       "\n",
       "#sk-container-id-3 div.sk-label-container {\n",
       "  text-align: center;\n",
       "}\n",
       "\n",
       "/* Estimator-specific */\n",
       "#sk-container-id-3 div.sk-estimator {\n",
       "  font-family: monospace;\n",
       "  border: 1px dotted var(--sklearn-color-border-box);\n",
       "  border-radius: 0.25em;\n",
       "  box-sizing: border-box;\n",
       "  margin-bottom: 0.5em;\n",
       "  /* unfitted */\n",
       "  background-color: var(--sklearn-color-unfitted-level-0);\n",
       "}\n",
       "\n",
       "#sk-container-id-3 div.sk-estimator.fitted {\n",
       "  /* fitted */\n",
       "  background-color: var(--sklearn-color-fitted-level-0);\n",
       "}\n",
       "\n",
       "/* on hover */\n",
       "#sk-container-id-3 div.sk-estimator:hover {\n",
       "  /* unfitted */\n",
       "  background-color: var(--sklearn-color-unfitted-level-2);\n",
       "}\n",
       "\n",
       "#sk-container-id-3 div.sk-estimator.fitted:hover {\n",
       "  /* fitted */\n",
       "  background-color: var(--sklearn-color-fitted-level-2);\n",
       "}\n",
       "\n",
       "/* Specification for estimator info (e.g. \"i\" and \"?\") */\n",
       "\n",
       "/* Common style for \"i\" and \"?\" */\n",
       "\n",
       ".sk-estimator-doc-link,\n",
       "a:link.sk-estimator-doc-link,\n",
       "a:visited.sk-estimator-doc-link {\n",
       "  float: right;\n",
       "  font-size: smaller;\n",
       "  line-height: 1em;\n",
       "  font-family: monospace;\n",
       "  background-color: var(--sklearn-color-background);\n",
       "  border-radius: 1em;\n",
       "  height: 1em;\n",
       "  width: 1em;\n",
       "  text-decoration: none !important;\n",
       "  margin-left: 1ex;\n",
       "  /* unfitted */\n",
       "  border: var(--sklearn-color-unfitted-level-1) 1pt solid;\n",
       "  color: var(--sklearn-color-unfitted-level-1);\n",
       "}\n",
       "\n",
       ".sk-estimator-doc-link.fitted,\n",
       "a:link.sk-estimator-doc-link.fitted,\n",
       "a:visited.sk-estimator-doc-link.fitted {\n",
       "  /* fitted */\n",
       "  border: var(--sklearn-color-fitted-level-1) 1pt solid;\n",
       "  color: var(--sklearn-color-fitted-level-1);\n",
       "}\n",
       "\n",
       "/* On hover */\n",
       "div.sk-estimator:hover .sk-estimator-doc-link:hover,\n",
       ".sk-estimator-doc-link:hover,\n",
       "div.sk-label-container:hover .sk-estimator-doc-link:hover,\n",
       ".sk-estimator-doc-link:hover {\n",
       "  /* unfitted */\n",
       "  background-color: var(--sklearn-color-unfitted-level-3);\n",
       "  color: var(--sklearn-color-background);\n",
       "  text-decoration: none;\n",
       "}\n",
       "\n",
       "div.sk-estimator.fitted:hover .sk-estimator-doc-link.fitted:hover,\n",
       ".sk-estimator-doc-link.fitted:hover,\n",
       "div.sk-label-container:hover .sk-estimator-doc-link.fitted:hover,\n",
       ".sk-estimator-doc-link.fitted:hover {\n",
       "  /* fitted */\n",
       "  background-color: var(--sklearn-color-fitted-level-3);\n",
       "  color: var(--sklearn-color-background);\n",
       "  text-decoration: none;\n",
       "}\n",
       "\n",
       "/* Span, style for the box shown on hovering the info icon */\n",
       ".sk-estimator-doc-link span {\n",
       "  display: none;\n",
       "  z-index: 9999;\n",
       "  position: relative;\n",
       "  font-weight: normal;\n",
       "  right: .2ex;\n",
       "  padding: .5ex;\n",
       "  margin: .5ex;\n",
       "  width: min-content;\n",
       "  min-width: 20ex;\n",
       "  max-width: 50ex;\n",
       "  color: var(--sklearn-color-text);\n",
       "  box-shadow: 2pt 2pt 4pt #999;\n",
       "  /* unfitted */\n",
       "  background: var(--sklearn-color-unfitted-level-0);\n",
       "  border: .5pt solid var(--sklearn-color-unfitted-level-3);\n",
       "}\n",
       "\n",
       ".sk-estimator-doc-link.fitted span {\n",
       "  /* fitted */\n",
       "  background: var(--sklearn-color-fitted-level-0);\n",
       "  border: var(--sklearn-color-fitted-level-3);\n",
       "}\n",
       "\n",
       ".sk-estimator-doc-link:hover span {\n",
       "  display: block;\n",
       "}\n",
       "\n",
       "/* \"?\"-specific style due to the `<a>` HTML tag */\n",
       "\n",
       "#sk-container-id-3 a.estimator_doc_link {\n",
       "  float: right;\n",
       "  font-size: 1rem;\n",
       "  line-height: 1em;\n",
       "  font-family: monospace;\n",
       "  background-color: var(--sklearn-color-background);\n",
       "  border-radius: 1rem;\n",
       "  height: 1rem;\n",
       "  width: 1rem;\n",
       "  text-decoration: none;\n",
       "  /* unfitted */\n",
       "  color: var(--sklearn-color-unfitted-level-1);\n",
       "  border: var(--sklearn-color-unfitted-level-1) 1pt solid;\n",
       "}\n",
       "\n",
       "#sk-container-id-3 a.estimator_doc_link.fitted {\n",
       "  /* fitted */\n",
       "  border: var(--sklearn-color-fitted-level-1) 1pt solid;\n",
       "  color: var(--sklearn-color-fitted-level-1);\n",
       "}\n",
       "\n",
       "/* On hover */\n",
       "#sk-container-id-3 a.estimator_doc_link:hover {\n",
       "  /* unfitted */\n",
       "  background-color: var(--sklearn-color-unfitted-level-3);\n",
       "  color: var(--sklearn-color-background);\n",
       "  text-decoration: none;\n",
       "}\n",
       "\n",
       "#sk-container-id-3 a.estimator_doc_link.fitted:hover {\n",
       "  /* fitted */\n",
       "  background-color: var(--sklearn-color-fitted-level-3);\n",
       "}\n",
       "</style><div id=\"sk-container-id-3\" class=\"sk-top-container\"><div class=\"sk-text-repr-fallback\"><pre>XGBRegressor(base_score=None, booster=None, callbacks=None,\n",
       "             colsample_bylevel=None, colsample_bynode=None,\n",
       "             colsample_bytree=None, device=None, early_stopping_rounds=None,\n",
       "             enable_categorical=False, eval_metric=None, feature_types=None,\n",
       "             gamma=None, grow_policy=None, importance_type=None,\n",
       "             interaction_constraints=None, learning_rate=None, max_bin=None,\n",
       "             max_cat_threshold=None, max_cat_to_onehot=None,\n",
       "             max_delta_step=None, max_depth=None, max_leaves=None,\n",
       "             min_child_weight=None, missing=nan, monotone_constraints=None,\n",
       "             multi_strategy=None, n_estimators=None, n_jobs=None,\n",
       "             num_parallel_tree=None, random_state=None, ...)</pre><b>In a Jupyter environment, please rerun this cell to show the HTML representation or trust the notebook. <br />On GitHub, the HTML representation is unable to render, please try loading this page with nbviewer.org.</b></div><div class=\"sk-container\" hidden><div class=\"sk-item\"><div class=\"sk-estimator fitted sk-toggleable\"><input class=\"sk-toggleable__control sk-hidden--visually\" id=\"sk-estimator-id-3\" type=\"checkbox\" checked><label for=\"sk-estimator-id-3\" class=\"sk-toggleable__label fitted sk-toggleable__label-arrow fitted\">&nbsp;XGBRegressor<span class=\"sk-estimator-doc-link fitted\">i<span>Fitted</span></span></label><div class=\"sk-toggleable__content fitted\"><pre>XGBRegressor(base_score=None, booster=None, callbacks=None,\n",
       "             colsample_bylevel=None, colsample_bynode=None,\n",
       "             colsample_bytree=None, device=None, early_stopping_rounds=None,\n",
       "             enable_categorical=False, eval_metric=None, feature_types=None,\n",
       "             gamma=None, grow_policy=None, importance_type=None,\n",
       "             interaction_constraints=None, learning_rate=None, max_bin=None,\n",
       "             max_cat_threshold=None, max_cat_to_onehot=None,\n",
       "             max_delta_step=None, max_depth=None, max_leaves=None,\n",
       "             min_child_weight=None, missing=nan, monotone_constraints=None,\n",
       "             multi_strategy=None, n_estimators=None, n_jobs=None,\n",
       "             num_parallel_tree=None, random_state=None, ...)</pre></div> </div></div></div></div>"
      ],
      "text/plain": [
       "XGBRegressor(base_score=None, booster=None, callbacks=None,\n",
       "             colsample_bylevel=None, colsample_bynode=None,\n",
       "             colsample_bytree=None, device=None, early_stopping_rounds=None,\n",
       "             enable_categorical=False, eval_metric=None, feature_types=None,\n",
       "             gamma=None, grow_policy=None, importance_type=None,\n",
       "             interaction_constraints=None, learning_rate=None, max_bin=None,\n",
       "             max_cat_threshold=None, max_cat_to_onehot=None,\n",
       "             max_delta_step=None, max_depth=None, max_leaves=None,\n",
       "             min_child_weight=None, missing=nan, monotone_constraints=None,\n",
       "             multi_strategy=None, n_estimators=None, n_jobs=None,\n",
       "             num_parallel_tree=None, random_state=None, ...)"
      ]
     },
     "execution_count": 87,
     "metadata": {},
     "output_type": "execute_result"
    }
   ],
   "source": [
    "xgb_regressor.fit(xgboost_train_data[['fundamental_v', 'momentum_beta', 'noise_std']], xgboost_train_data[['loss']])"
   ]
  },
  {
   "cell_type": "code",
   "execution_count": 100,
   "metadata": {},
   "outputs": [],
   "source": [
    "# predict_loss from initialized_samples\n",
    "universe_set = {(a,b,c) for a,b,c in parameter_universe}\n",
    "remaining_set = universe_set - training_set_1\n",
    "out = xgb_regressor.predict(list(remaining_set))"
   ]
  },
  {
   "cell_type": "code",
   "execution_count": 108,
   "metadata": {},
   "outputs": [
    {
     "data": {
      "text/html": [
       "<div>\n",
       "<style scoped>\n",
       "    .dataframe tbody tr th:only-of-type {\n",
       "        vertical-align: middle;\n",
       "    }\n",
       "\n",
       "    .dataframe tbody tr th {\n",
       "        vertical-align: top;\n",
       "    }\n",
       "\n",
       "    .dataframe thead th {\n",
       "        text-align: right;\n",
       "    }\n",
       "</style>\n",
       "<table border=\"1\" class=\"dataframe\">\n",
       "  <thead>\n",
       "    <tr style=\"text-align: right;\">\n",
       "      <th></th>\n",
       "      <th>fundamental_v</th>\n",
       "      <th>momentum_beta</th>\n",
       "      <th>noise_std</th>\n",
       "      <th>predict_dloss</th>\n",
       "    </tr>\n",
       "  </thead>\n",
       "  <tbody>\n",
       "    <tr>\n",
       "      <th>0</th>\n",
       "      <td>0.060083</td>\n",
       "      <td>0.740435</td>\n",
       "      <td>0.235582</td>\n",
       "      <td>0.600973</td>\n",
       "    </tr>\n",
       "    <tr>\n",
       "      <th>1</th>\n",
       "      <td>0.444964</td>\n",
       "      <td>0.176684</td>\n",
       "      <td>0.933478</td>\n",
       "      <td>0.503918</td>\n",
       "    </tr>\n",
       "    <tr>\n",
       "      <th>2</th>\n",
       "      <td>0.843827</td>\n",
       "      <td>0.962877</td>\n",
       "      <td>0.580520</td>\n",
       "      <td>0.446987</td>\n",
       "    </tr>\n",
       "    <tr>\n",
       "      <th>3</th>\n",
       "      <td>0.088127</td>\n",
       "      <td>0.391217</td>\n",
       "      <td>0.284480</td>\n",
       "      <td>0.559075</td>\n",
       "    </tr>\n",
       "    <tr>\n",
       "      <th>4</th>\n",
       "      <td>0.714040</td>\n",
       "      <td>0.159696</td>\n",
       "      <td>0.706608</td>\n",
       "      <td>0.485745</td>\n",
       "    </tr>\n",
       "    <tr>\n",
       "      <th>...</th>\n",
       "      <td>...</td>\n",
       "      <td>...</td>\n",
       "      <td>...</td>\n",
       "      <td>...</td>\n",
       "    </tr>\n",
       "    <tr>\n",
       "      <th>27312</th>\n",
       "      <td>0.105286</td>\n",
       "      <td>0.633476</td>\n",
       "      <td>0.621316</td>\n",
       "      <td>0.601552</td>\n",
       "    </tr>\n",
       "    <tr>\n",
       "      <th>27313</th>\n",
       "      <td>0.889199</td>\n",
       "      <td>0.919995</td>\n",
       "      <td>0.353800</td>\n",
       "      <td>0.462740</td>\n",
       "    </tr>\n",
       "    <tr>\n",
       "      <th>27314</th>\n",
       "      <td>0.496904</td>\n",
       "      <td>0.948662</td>\n",
       "      <td>0.115208</td>\n",
       "      <td>0.461611</td>\n",
       "    </tr>\n",
       "    <tr>\n",
       "      <th>27315</th>\n",
       "      <td>0.925117</td>\n",
       "      <td>0.150277</td>\n",
       "      <td>0.379090</td>\n",
       "      <td>0.478209</td>\n",
       "    </tr>\n",
       "    <tr>\n",
       "      <th>27316</th>\n",
       "      <td>0.949253</td>\n",
       "      <td>0.587598</td>\n",
       "      <td>0.600622</td>\n",
       "      <td>0.434912</td>\n",
       "    </tr>\n",
       "  </tbody>\n",
       "</table>\n",
       "<p>27317 rows × 4 columns</p>\n",
       "</div>"
      ],
      "text/plain": [
       "       fundamental_v  momentum_beta  noise_std  predict_dloss\n",
       "0           0.060083       0.740435   0.235582       0.600973\n",
       "1           0.444964       0.176684   0.933478       0.503918\n",
       "2           0.843827       0.962877   0.580520       0.446987\n",
       "3           0.088127       0.391217   0.284480       0.559075\n",
       "4           0.714040       0.159696   0.706608       0.485745\n",
       "...              ...            ...        ...            ...\n",
       "27312       0.105286       0.633476   0.621316       0.601552\n",
       "27313       0.889199       0.919995   0.353800       0.462740\n",
       "27314       0.496904       0.948662   0.115208       0.461611\n",
       "27315       0.925117       0.150277   0.379090       0.478209\n",
       "27316       0.949253       0.587598   0.600622       0.434912\n",
       "\n",
       "[27317 rows x 4 columns]"
      ]
     },
     "execution_count": 108,
     "metadata": {},
     "output_type": "execute_result"
    }
   ],
   "source": [
    "predict_df = pd.DataFrame(remaining_set, columns = ['fundamental_v', 'momentum_beta', 'noise_std'])\n",
    "predict_df['predict_dloss'] = out\n",
    "predict_df"
   ]
  },
  {
   "cell_type": "code",
   "execution_count": 109,
   "metadata": {},
   "outputs": [
    {
     "data": {
      "text/plain": [
       "count    27317.000000\n",
       "mean         0.509144\n",
       "std          0.067555\n",
       "min          0.295849\n",
       "25%          0.465587\n",
       "50%          0.499737\n",
       "75%          0.545257\n",
       "max          1.371744\n",
       "Name: predict_dloss, dtype: float64"
      ]
     },
     "execution_count": 109,
     "metadata": {},
     "output_type": "execute_result"
    }
   ],
   "source": [
    "predict_df['predict_dloss'].describe()"
   ]
  },
  {
   "cell_type": "code",
   "execution_count": 110,
   "metadata": {},
   "outputs": [
    {
     "data": {
      "text/html": [
       "<div>\n",
       "<style scoped>\n",
       "    .dataframe tbody tr th:only-of-type {\n",
       "        vertical-align: middle;\n",
       "    }\n",
       "\n",
       "    .dataframe tbody tr th {\n",
       "        vertical-align: top;\n",
       "    }\n",
       "\n",
       "    .dataframe thead th {\n",
       "        text-align: right;\n",
       "    }\n",
       "</style>\n",
       "<table border=\"1\" class=\"dataframe\">\n",
       "  <thead>\n",
       "    <tr style=\"text-align: right;\">\n",
       "      <th></th>\n",
       "      <th>fundamental_v</th>\n",
       "      <th>momentum_beta</th>\n",
       "      <th>noise_std</th>\n",
       "      <th>predict_dloss</th>\n",
       "    </tr>\n",
       "  </thead>\n",
       "  <tbody>\n",
       "    <tr>\n",
       "      <th>17339</th>\n",
       "      <td>0.980287</td>\n",
       "      <td>0.349034</td>\n",
       "      <td>0.696785</td>\n",
       "      <td>0.295849</td>\n",
       "    </tr>\n",
       "    <tr>\n",
       "      <th>4386</th>\n",
       "      <td>0.774508</td>\n",
       "      <td>0.985241</td>\n",
       "      <td>0.844768</td>\n",
       "      <td>0.308622</td>\n",
       "    </tr>\n",
       "    <tr>\n",
       "      <th>9089</th>\n",
       "      <td>0.740643</td>\n",
       "      <td>0.993077</td>\n",
       "      <td>0.730921</td>\n",
       "      <td>0.309806</td>\n",
       "    </tr>\n",
       "    <tr>\n",
       "      <th>23297</th>\n",
       "      <td>0.705663</td>\n",
       "      <td>0.049138</td>\n",
       "      <td>0.404608</td>\n",
       "      <td>0.311836</td>\n",
       "    </tr>\n",
       "    <tr>\n",
       "      <th>2017</th>\n",
       "      <td>0.497754</td>\n",
       "      <td>0.763939</td>\n",
       "      <td>0.294551</td>\n",
       "      <td>0.312383</td>\n",
       "    </tr>\n",
       "    <tr>\n",
       "      <th>...</th>\n",
       "      <td>...</td>\n",
       "      <td>...</td>\n",
       "      <td>...</td>\n",
       "      <td>...</td>\n",
       "    </tr>\n",
       "    <tr>\n",
       "      <th>4585</th>\n",
       "      <td>0.005324</td>\n",
       "      <td>0.220015</td>\n",
       "      <td>0.022435</td>\n",
       "      <td>1.189501</td>\n",
       "    </tr>\n",
       "    <tr>\n",
       "      <th>20692</th>\n",
       "      <td>0.002596</td>\n",
       "      <td>0.878550</td>\n",
       "      <td>0.000263</td>\n",
       "      <td>1.218323</td>\n",
       "    </tr>\n",
       "    <tr>\n",
       "      <th>1774</th>\n",
       "      <td>0.010352</td>\n",
       "      <td>0.204706</td>\n",
       "      <td>0.010137</td>\n",
       "      <td>1.246249</td>\n",
       "    </tr>\n",
       "    <tr>\n",
       "      <th>8845</th>\n",
       "      <td>0.011482</td>\n",
       "      <td>0.253249</td>\n",
       "      <td>0.017346</td>\n",
       "      <td>1.275060</td>\n",
       "    </tr>\n",
       "    <tr>\n",
       "      <th>12029</th>\n",
       "      <td>0.007348</td>\n",
       "      <td>0.659350</td>\n",
       "      <td>0.009746</td>\n",
       "      <td>1.371744</td>\n",
       "    </tr>\n",
       "  </tbody>\n",
       "</table>\n",
       "<p>27317 rows × 4 columns</p>\n",
       "</div>"
      ],
      "text/plain": [
       "       fundamental_v  momentum_beta  noise_std  predict_dloss\n",
       "17339       0.980287       0.349034   0.696785       0.295849\n",
       "4386        0.774508       0.985241   0.844768       0.308622\n",
       "9089        0.740643       0.993077   0.730921       0.309806\n",
       "23297       0.705663       0.049138   0.404608       0.311836\n",
       "2017        0.497754       0.763939   0.294551       0.312383\n",
       "...              ...            ...        ...            ...\n",
       "4585        0.005324       0.220015   0.022435       1.189501\n",
       "20692       0.002596       0.878550   0.000263       1.218323\n",
       "1774        0.010352       0.204706   0.010137       1.246249\n",
       "8845        0.011482       0.253249   0.017346       1.275060\n",
       "12029       0.007348       0.659350   0.009746       1.371744\n",
       "\n",
       "[27317 rows x 4 columns]"
      ]
     },
     "execution_count": 110,
     "metadata": {},
     "output_type": "execute_result"
    }
   ],
   "source": [
    "predict_df.sort_values('predict_dloss')"
   ]
  },
  {
   "cell_type": "markdown",
   "metadata": {},
   "source": [
    "### Incrementally add new labelled data by taking the parameter set with the lowest predict_dloss"
   ]
  },
  {
   "cell_type": "code",
   "execution_count": 124,
   "metadata": {},
   "outputs": [],
   "source": [
    "# we will get the lowest 600 predicted params + 200 randomly selected params for further simulating, and then to fit xgboost again\n",
    "\n",
    "next_training_df = predict_df.sort_values('predict_dloss').iloc[:600][['fundamental_v','momentum_beta','noise_std']]\n",
    "random_df = predict_df.iloc[600:].sample(n=200, random_state=1)[['fundamental_v','momentum_beta','noise_std']]"
   ]
  },
  {
   "cell_type": "code",
   "execution_count": null,
   "metadata": {},
   "outputs": [
    {
     "name": "stdout",
     "output_type": "stream",
     "text": [
      ".................................................................................................................................................................................................................................................................................................................................................................................................................\n",
      "..........................................................................................................................................................................................................................................................................................................................................................................................................."
     ]
    }
   ],
   "source": [
    "next_training_set = set(pd.concat([next_training_df, random_df]).itertuples(index=False, name=None))\n",
    "labelled_data = list(generate_trainings(next_training_set))\n",
    "xgboost_train_data_supp = pd.DataFrame(labelled_data, columns=['fundamental_v',   'momentum_beta',  'noise_std' ,   'loss'])\n",
    "all_xgboost_train_data = pd.concat([xgboost_train_data, xgboost_train_data_supp])"
   ]
  },
  {
   "cell_type": "code",
   "execution_count": 132,
   "metadata": {},
   "outputs": [
    {
     "data": {
      "text/html": [
       "<div>\n",
       "<style scoped>\n",
       "    .dataframe tbody tr th:only-of-type {\n",
       "        vertical-align: middle;\n",
       "    }\n",
       "\n",
       "    .dataframe tbody tr th {\n",
       "        vertical-align: top;\n",
       "    }\n",
       "\n",
       "    .dataframe thead th {\n",
       "        text-align: right;\n",
       "    }\n",
       "</style>\n",
       "<table border=\"1\" class=\"dataframe\">\n",
       "  <thead>\n",
       "    <tr style=\"text-align: right;\">\n",
       "      <th></th>\n",
       "      <th>fundamental_v</th>\n",
       "      <th>momentum_beta</th>\n",
       "      <th>noise_std</th>\n",
       "      <th>predict_dloss</th>\n",
       "    </tr>\n",
       "  </thead>\n",
       "  <tbody>\n",
       "    <tr>\n",
       "      <th>0</th>\n",
       "      <td>0.060083</td>\n",
       "      <td>0.740435</td>\n",
       "      <td>0.235582</td>\n",
       "      <td>0.570776</td>\n",
       "    </tr>\n",
       "    <tr>\n",
       "      <th>1</th>\n",
       "      <td>0.444964</td>\n",
       "      <td>0.176684</td>\n",
       "      <td>0.933478</td>\n",
       "      <td>0.514495</td>\n",
       "    </tr>\n",
       "    <tr>\n",
       "      <th>2</th>\n",
       "      <td>0.843827</td>\n",
       "      <td>0.962877</td>\n",
       "      <td>0.580520</td>\n",
       "      <td>0.391793</td>\n",
       "    </tr>\n",
       "    <tr>\n",
       "      <th>3</th>\n",
       "      <td>0.088127</td>\n",
       "      <td>0.391217</td>\n",
       "      <td>0.284480</td>\n",
       "      <td>0.584042</td>\n",
       "    </tr>\n",
       "    <tr>\n",
       "      <th>4</th>\n",
       "      <td>0.714040</td>\n",
       "      <td>0.159696</td>\n",
       "      <td>0.706608</td>\n",
       "      <td>0.448049</td>\n",
       "    </tr>\n",
       "    <tr>\n",
       "      <th>...</th>\n",
       "      <td>...</td>\n",
       "      <td>...</td>\n",
       "      <td>...</td>\n",
       "      <td>...</td>\n",
       "    </tr>\n",
       "    <tr>\n",
       "      <th>26516</th>\n",
       "      <td>0.105286</td>\n",
       "      <td>0.633476</td>\n",
       "      <td>0.621316</td>\n",
       "      <td>0.594729</td>\n",
       "    </tr>\n",
       "    <tr>\n",
       "      <th>26517</th>\n",
       "      <td>0.889199</td>\n",
       "      <td>0.919995</td>\n",
       "      <td>0.353800</td>\n",
       "      <td>0.544334</td>\n",
       "    </tr>\n",
       "    <tr>\n",
       "      <th>26518</th>\n",
       "      <td>0.496904</td>\n",
       "      <td>0.948662</td>\n",
       "      <td>0.115208</td>\n",
       "      <td>0.507634</td>\n",
       "    </tr>\n",
       "    <tr>\n",
       "      <th>26519</th>\n",
       "      <td>0.925117</td>\n",
       "      <td>0.150277</td>\n",
       "      <td>0.379090</td>\n",
       "      <td>0.458962</td>\n",
       "    </tr>\n",
       "    <tr>\n",
       "      <th>26520</th>\n",
       "      <td>0.949253</td>\n",
       "      <td>0.587598</td>\n",
       "      <td>0.600622</td>\n",
       "      <td>0.462923</td>\n",
       "    </tr>\n",
       "  </tbody>\n",
       "</table>\n",
       "<p>26521 rows × 4 columns</p>\n",
       "</div>"
      ],
      "text/plain": [
       "       fundamental_v  momentum_beta  noise_std  predict_dloss\n",
       "0           0.060083       0.740435   0.235582       0.570776\n",
       "1           0.444964       0.176684   0.933478       0.514495\n",
       "2           0.843827       0.962877   0.580520       0.391793\n",
       "3           0.088127       0.391217   0.284480       0.584042\n",
       "4           0.714040       0.159696   0.706608       0.448049\n",
       "...              ...            ...        ...            ...\n",
       "26516       0.105286       0.633476   0.621316       0.594729\n",
       "26517       0.889199       0.919995   0.353800       0.544334\n",
       "26518       0.496904       0.948662   0.115208       0.507634\n",
       "26519       0.925117       0.150277   0.379090       0.458962\n",
       "26520       0.949253       0.587598   0.600622       0.462923\n",
       "\n",
       "[26521 rows x 4 columns]"
      ]
     },
     "execution_count": 132,
     "metadata": {},
     "output_type": "execute_result"
    }
   ],
   "source": [
    "xgb_regressor.fit(all_xgboost_train_data[['fundamental_v', 'momentum_beta', 'noise_std']], all_xgboost_train_data[['loss']])\n",
    "all_training_set = training_set_1 | next_training_set\n",
    "remaining_set = universe_set - all_training_set\n",
    "out = xgb_regressor.predict(list(remaining_set))\n",
    "predict_df = pd.DataFrame(remaining_set, columns = ['fundamental_v', 'momentum_beta', 'noise_std'])\n",
    "predict_df['predict_dloss'] = out\n",
    "predict_df"
   ]
  },
  {
   "cell_type": "code",
   "execution_count": 134,
   "metadata": {},
   "outputs": [
    {
     "data": {
      "text/plain": [
       "count    26521.000000\n",
       "mean         0.512845\n",
       "std          0.067058\n",
       "min          0.325846\n",
       "25%          0.469919\n",
       "50%          0.501981\n",
       "75%          0.546793\n",
       "max          1.373340\n",
       "Name: predict_dloss, dtype: float64"
      ]
     },
     "execution_count": 134,
     "metadata": {},
     "output_type": "execute_result"
    }
   ],
   "source": [
    "predict_df['predict_dloss'].describe()"
   ]
  },
  {
   "cell_type": "code",
   "execution_count": null,
   "metadata": {},
   "outputs": [
    {
     "data": {
      "text/plain": [
       "np.float64(0.03565111076846461)"
      ]
     },
     "execution_count": 136,
     "metadata": {},
     "output_type": "execute_result"
    }
   ],
   "source": [
    "# check the predict error now:\n",
    "check_output = xgb_regressor.predict(list(all_xgboost_train_data[['fundamental_v', 'momentum_beta', 'noise_std']].itertuples(index=False, name=None)))\n",
    "predict_with_true = all_xgboost_train_data.copy()\n",
    "predict_with_true['predict'] = check_output\n",
    "avg_loss = ((predict_with_true['predict'] - predict_with_true['loss'])/predict_with_true['loss']).mean()\n",
    "print(f'Avg loss after supplemented training')"
   ]
  },
  {
   "cell_type": "code",
   "execution_count": 137,
   "metadata": {},
   "outputs": [
    {
     "name": "stdout",
     "output_type": "stream",
     "text": [
      "Re-train XGB repeating the steps, loop =1\n",
      ".................................................................................................................................................................................................................................................................................................................................................................................................................\n",
      "..........................................................................................................................................................................................................................................................................................................................................................................................................Avg loss after re-training 0.0368\n",
      "Re-train XGB repeating the steps, loop =2\n",
      ".................................................................................................................................................................................................................................................................................................................................................................................................................\n",
      ".............................................................................................................................................................................................................................................................................................................................................................................................................Avg loss after re-training 0.0393\n",
      "Re-train XGB repeating the steps, loop =3\n",
      ".................................................................................................................................................................................................................................................................................................................................................................................................................\n",
      ".............................................................................................................................................................................................................................................................................................................................................................................................................Avg loss after re-training 0.0390\n",
      "Re-train XGB repeating the steps, loop =4\n",
      ".................................................................................................................................................................................................................................................................................................................................................................................................................\n",
      ".......................................................................................................................................................................................................................................................................................................................................................................................................Avg loss after re-training 0.0418\n",
      "Re-train XGB repeating the steps, loop =5\n",
      ".................................................................................................................................................................................................................................................................................................................................................................................................................\n",
      ".......................................................................................................................................................................................................................................................................................................................................................................................................Avg loss after re-training 0.0425\n"
     ]
    }
   ],
   "source": [
    "# here we will repeat the extra training 5 more times\n",
    "\n",
    "def re_train(predict_df, all_train_data, training_set):\n",
    "    next_training_df = predict_df.sort_values('predict_dloss').iloc[:600][['fundamental_v','momentum_beta','noise_std']]\n",
    "    random_df = predict_df.iloc[600:].sample(n=200, random_state=1)[['fundamental_v','momentum_beta','noise_std']]\n",
    "    next_training_set = set(pd.concat([next_training_df, random_df]).itertuples(index=False, name=None))\n",
    "    labelled_data = list(generate_trainings(next_training_set))\n",
    "    xgboost_train_data_supp = pd.DataFrame(labelled_data, columns=['fundamental_v',   'momentum_beta',  'noise_std' ,   'loss'])\n",
    "    all_xgboost_train_data = pd.concat([all_train_data, xgboost_train_data_supp])\n",
    "\n",
    "\n",
    "    xgb_regressor.fit(all_xgboost_train_data[['fundamental_v', 'momentum_beta', 'noise_std']], all_xgboost_train_data[['loss']])\n",
    "    all_training_set = training_set | next_training_set\n",
    "    remaining_set = universe_set - all_training_set\n",
    "    out = xgb_regressor.predict(list(remaining_set))\n",
    "    predict_df = pd.DataFrame(remaining_set, columns = ['fundamental_v', 'momentum_beta', 'noise_std'])\n",
    "    predict_df['predict_dloss'] = out\n",
    "    \n",
    "    # check the predict error now:\n",
    "    check_output = xgb_regressor.predict(list(all_xgboost_train_data[['fundamental_v', 'momentum_beta', 'noise_std']].itertuples(index=False, name=None)))\n",
    "    predict_with_true = all_xgboost_train_data.copy()\n",
    "    predict_with_true['predict'] = check_output\n",
    "    avg_loss = ((predict_with_true['predict'] - predict_with_true['loss'])/predict_with_true['loss']).mean()\n",
    "    print(f'Avg loss after re-training {avg_loss:.4f}')\n",
    "    return predict_df, all_xgboost_train_data, all_training_set\n",
    "\n",
    "\n",
    "\n",
    "\n",
    "for i in range(5):\n",
    "    print(f'Re-train XGB repeating the steps, loop ={i+1}')\n",
    "    predict_df,all_xgboost_train_data, all_training_set= re_train(predict_df,all_xgboost_train_data, all_training_set)\n"
   ]
  },
  {
   "cell_type": "code",
   "execution_count": 139,
   "metadata": {},
   "outputs": [
    {
     "data": {
      "text/html": [
       "<div>\n",
       "<style scoped>\n",
       "    .dataframe tbody tr th:only-of-type {\n",
       "        vertical-align: middle;\n",
       "    }\n",
       "\n",
       "    .dataframe tbody tr th {\n",
       "        vertical-align: top;\n",
       "    }\n",
       "\n",
       "    .dataframe thead th {\n",
       "        text-align: right;\n",
       "    }\n",
       "</style>\n",
       "<table border=\"1\" class=\"dataframe\">\n",
       "  <thead>\n",
       "    <tr style=\"text-align: right;\">\n",
       "      <th></th>\n",
       "      <th>fundamental_v</th>\n",
       "      <th>momentum_beta</th>\n",
       "      <th>noise_std</th>\n",
       "      <th>predict_dloss</th>\n",
       "    </tr>\n",
       "  </thead>\n",
       "  <tbody>\n",
       "    <tr>\n",
       "      <th>0</th>\n",
       "      <td>0.260555</td>\n",
       "      <td>0.619588</td>\n",
       "      <td>0.182637</td>\n",
       "      <td>0.480168</td>\n",
       "    </tr>\n",
       "    <tr>\n",
       "      <th>1</th>\n",
       "      <td>0.513668</td>\n",
       "      <td>0.174049</td>\n",
       "      <td>0.898094</td>\n",
       "      <td>0.528546</td>\n",
       "    </tr>\n",
       "    <tr>\n",
       "      <th>2</th>\n",
       "      <td>0.918853</td>\n",
       "      <td>0.862739</td>\n",
       "      <td>0.494943</td>\n",
       "      <td>0.449487</td>\n",
       "    </tr>\n",
       "    <tr>\n",
       "      <th>3</th>\n",
       "      <td>0.167815</td>\n",
       "      <td>0.432856</td>\n",
       "      <td>0.709423</td>\n",
       "      <td>0.618556</td>\n",
       "    </tr>\n",
       "    <tr>\n",
       "      <th>4</th>\n",
       "      <td>0.058074</td>\n",
       "      <td>0.946931</td>\n",
       "      <td>0.833090</td>\n",
       "      <td>0.598098</td>\n",
       "    </tr>\n",
       "    <tr>\n",
       "      <th>...</th>\n",
       "      <td>...</td>\n",
       "      <td>...</td>\n",
       "      <td>...</td>\n",
       "      <td>...</td>\n",
       "    </tr>\n",
       "    <tr>\n",
       "      <th>32763</th>\n",
       "      <td>0.058092</td>\n",
       "      <td>0.376847</td>\n",
       "      <td>0.707083</td>\n",
       "      <td>0.618377</td>\n",
       "    </tr>\n",
       "    <tr>\n",
       "      <th>32764</th>\n",
       "      <td>0.167831</td>\n",
       "      <td>0.987743</td>\n",
       "      <td>0.835368</td>\n",
       "      <td>0.526777</td>\n",
       "    </tr>\n",
       "    <tr>\n",
       "      <th>32765</th>\n",
       "      <td>0.918870</td>\n",
       "      <td>0.307852</td>\n",
       "      <td>0.120889</td>\n",
       "      <td>0.541579</td>\n",
       "    </tr>\n",
       "    <tr>\n",
       "      <th>32766</th>\n",
       "      <td>0.513631</td>\n",
       "      <td>0.744592</td>\n",
       "      <td>0.522209</td>\n",
       "      <td>0.506801</td>\n",
       "    </tr>\n",
       "    <tr>\n",
       "      <th>32767</th>\n",
       "      <td>0.260517</td>\n",
       "      <td>0.049046</td>\n",
       "      <td>0.306753</td>\n",
       "      <td>0.590626</td>\n",
       "    </tr>\n",
       "  </tbody>\n",
       "</table>\n",
       "<p>32768 rows × 4 columns</p>\n",
       "</div>"
      ],
      "text/plain": [
       "       fundamental_v  momentum_beta  noise_std  predict_dloss\n",
       "0           0.260555       0.619588   0.182637       0.480168\n",
       "1           0.513668       0.174049   0.898094       0.528546\n",
       "2           0.918853       0.862739   0.494943       0.449487\n",
       "3           0.167815       0.432856   0.709423       0.618556\n",
       "4           0.058074       0.946931   0.833090       0.598098\n",
       "...              ...            ...        ...            ...\n",
       "32763       0.058092       0.376847   0.707083       0.618377\n",
       "32764       0.167831       0.987743   0.835368       0.526777\n",
       "32765       0.918870       0.307852   0.120889       0.541579\n",
       "32766       0.513631       0.744592   0.522209       0.506801\n",
       "32767       0.260517       0.049046   0.306753       0.590626\n",
       "\n",
       "[32768 rows x 4 columns]"
      ]
     },
     "execution_count": 139,
     "metadata": {},
     "output_type": "execute_result"
    }
   ],
   "source": [
    "final_model = xgb_regressor.fit(all_xgboost_train_data[['fundamental_v', 'momentum_beta', 'noise_std']], all_xgboost_train_data[['loss']])\n",
    "\n",
    "final_loss_pred = final_model.predict(parameter_universe)\n",
    "result_df = pd.DataFrame(parameter_universe, columns=['fundamental_v', 'momentum_beta', 'noise_std'])\n",
    "result_df['predict_dloss'] = final_loss_pred\n",
    "result_df"
   ]
  },
  {
   "cell_type": "code",
   "execution_count": 150,
   "metadata": {},
   "outputs": [],
   "source": [
    "final_v,final_beta,final_std = result_df.sort_values('predict_dloss').iloc[0][['fundamental_v', 'momentum_beta', 'noise_std']]"
   ]
  },
  {
   "cell_type": "code",
   "execution_count": 151,
   "metadata": {},
   "outputs": [
    {
     "data": {
      "text/plain": [
       "<Axes: >"
      ]
     },
     "execution_count": 151,
     "metadata": {},
     "output_type": "execute_result"
    },
    {
     "data": {
      "image/png": "[encoded data removed]",
      "text/plain": [
       "<Figure size 640x480 with 1 Axes>"
      ]
     },
     "metadata": {},
     "output_type": "display_data"
    }
   ],
   "source": [
    "# now we use this final params into our ABM model, and see the series produced\n",
    "\n",
    "def simulate_price_series_final(v, beta, std, input_data):\n",
    "    p_cur = input_data.iloc[0]['Close']\n",
    "    yield input_data.iloc[0].name, p_cur\n",
    "    for date, fs, ewm, _, f_value, _ in input_data[1:].itertuples():\n",
    "        demand = one_fundamental_trader(v, p_cur, f_value) +  one_momentum_trader(beta, ewm) + one_noise_demand(std)\n",
    "        if fs >0:\n",
    "            demand += one_momentum_trader(beta, ewm)\n",
    "        else:\n",
    "            demand += one_fundamental_trader(v, p_cur, f_value)\n",
    "        p_next = p_cur+demand\n",
    "        yield date, p_next\n",
    "        p_cur = p_next\n",
    "\n",
    "sim_sr_final = pd.Series(dict(simulate_price_series_final(final_v,final_beta,final_std, input_data)))\n",
    "sim_return_sr_final = np.log(sr).diff()\n",
    "\n",
    "\n",
    "plot_df = pd.DataFrame({'Hist Price': input_data['Close'], 'Sim Price': sim_sr_final})\n",
    "plot_df.plot()"
   ]
  },
  {
   "cell_type": "code",
   "execution_count": 153,
   "metadata": {},
   "outputs": [
    {
     "data": {
      "text/plain": [
       "np.float64(11.446942597567809)"
      ]
     },
     "execution_count": 153,
     "metadata": {},
     "output_type": "execute_result"
    }
   ],
   "source": [
    "sim_return_sr_final.kurt()"
   ]
  },
  {
   "cell_type": "code",
   "execution_count": 154,
   "metadata": {},
   "outputs": [
    {
     "data": {
      "text/plain": [
       "np.float64(12.339129593101243)"
      ]
     },
     "execution_count": 154,
     "metadata": {},
     "output_type": "execute_result"
    }
   ],
   "source": [
    "hist_ret_sr.kurt()"
   ]
  },
  {
   "cell_type": "code",
   "execution_count": 167,
   "metadata": {},
   "outputs": [],
   "source": [
    "from statsmodels.graphics.tsaplots import plot_acf\n",
    "import statsmodels.api as sm"
   ]
  },
  {
   "cell_type": "code",
   "execution_count": 180,
   "metadata": {},
   "outputs": [
    {
     "data": {
      "image/png": "[encoded data removed]",
      "text/plain": [
       "<Figure size 640x480 with 1 Axes>"
      ]
     },
     "metadata": {},
     "output_type": "display_data"
    },
    {
     "data": {
      "image/png": "[encoded data removed]",
      "text/plain": [
       "<Figure size 640x480 with 1 Axes>"
      ]
     },
     "metadata": {},
     "output_type": "display_data"
    },
    {
     "data": {
      "image/png": "[encoded data removed]",
      "text/plain": [
       "<Figure size 640x480 with 1 Axes>"
      ]
     },
     "metadata": {},
     "output_type": "display_data"
    },
    {
     "data": {
      "image/png": "[encoded data removed]",
      "text/plain": [
       "<Figure size 640x480 with 1 Axes>"
      ]
     },
     "metadata": {},
     "output_type": "display_data"
    }
   ],
   "source": [
    "import matplotlib.pyplot as plt\n",
    "sm.graphics.tsa.plot_acf(hist_ret_sr.values.squeeze(),lags=100 ,title='Hist Ret Autocorrelation')\n",
    "sm.graphics.tsa.plot_acf(np.square(hist_ret_sr).values.squeeze(),lags=100 ,title='Squared Hist Ret Autocorrelation')\n",
    "\n",
    "sm.graphics.tsa.plot_acf(sim_return_sr_final.dropna().values.squeeze(),lags=100 ,title='Sim Ret Autocorrelation')\n",
    "sm.graphics.tsa.plot_acf(np.square(sim_return_sr_final.dropna()).values.squeeze(),lags=100 ,title='Squared Sim Ret Autocorrelation')\n",
    "plt.show()"
   ]
  },
  {
   "cell_type": "code",
   "execution_count": null,
   "metadata": {},
   "outputs": [],
   "source": []
  }
 ],
 "metadata": {
  "kernelspec": {
   "display_name": ".venv",
   "language": "python",
   "name": "python3"
  },
  "language_info": {
   "codemirror_mode": {
    "name": "ipython",
    "version": 3
   },
   "file_extension": ".py",
   "mimetype": "text/x-python",
   "name": "python",
   "nbconvert_exporter": "python",
   "pygments_lexer": "ipython3",
   "version": "3.9.6"
  }
 },
 "nbformat": 4,
 "nbformat_minor": 2
}
